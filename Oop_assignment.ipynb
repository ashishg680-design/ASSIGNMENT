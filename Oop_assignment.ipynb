{
  "nbformat": 4,
  "nbformat_minor": 0,
  "metadata": {
    "colab": {
      "provenance": []
    },
    "kernelspec": {
      "name": "python3",
      "display_name": "Python 3"
    },
    "language_info": {
      "name": "python"
    }
  },
  "cells": [
    {
      "cell_type": "code",
      "execution_count": null,
      "metadata": {
        "id": "H5aVlGWjNxkf"
      },
      "outputs": [],
      "source": []
    },
    {
      "cell_type": "markdown",
      "source": [
        "Q 1 What is Object-Oriented Programming (OOP)?\n",
        "ans-OOP stands for Object-Oriented Programming. It's a programming paradigm that revolves around the concept of objects and classes.\n",
        "\n",
        "Key Concepts in OOP:\n",
        "1. Class: A blueprint or template for creating objects. Defines properties and behaviors.\n",
        "2. Object: An instance of a class. Represents a real-world entity.\n",
        "3. Inheritance: Mechanism where a new class inherits properties and methods from an existing class.\n",
        "4. Polymorphism: Ability of methods to do different things based on the object they're acting upon.\n",
        "5. Encapsulation: Bundling data (attributes) and methods that operate on the data within a single unit (class).\n",
        "6. Abstraction: Hiding implementation details and showing only necessary information\n",
        "\n",
        "Q 2 What is a class in OOP ?\n",
        "Ans- A class is a blueprint or template for creating objects. Defines properties and behaviors.called class\n",
        "\n",
        "Q3  What is an object in OOP?\n",
        "Ans-object is a fundamental building block. It represents a real-world entity or concept in code, encapsulating data and behavior related to that entity.\n",
        "\n",
        "Q4  What is the difference between abstraction and encapsulation?\n",
        "Ans-\n",
        "Abstraction is about hiding complexity.\n",
        "\n",
        "Encapsulation is about hiding internal details and protecting data.\n",
        "example\n",
        "class Car:\n",
        "    def __init__(self):\n",
        "        self.__engine_status = \"off\"   # Encapsulated attribute\n",
        "\n",
        "    def start_engine(self):           # Abstracted method\n",
        "        self.__engine_status = \"on\"\n",
        "        print(\"Car started\")          # Hides the complex process of starting an engine\n",
        "\n",
        "    def stop_engine(self):\n",
        "        self.__engine_status = \"off\"\n",
        "        print(\"Car stopped\")\n",
        "\n",
        "# Usage\n",
        "my_car = Car()\n",
        "my_car.start_engine()  # Abstracts internal workings\n",
        "# print(my_car.__engine_status)     # This will raise an error (encapsulation)\n",
        "\n",
        "\n",
        "\n",
        "Q5 What are dunder methods in Python?\n",
        "Ans-Dunder methods allow you to customize the behavior of your objects with built-in Python syntax.\n",
        "\n",
        "They enable your classes to work with:\n",
        "\n",
        "Built-in functions: len(obj) → obj.__len__()\n",
        "\n",
        "Operators: obj1 + obj2 → obj1.__add__(obj2)\n",
        "\n",
        "Object lifecycle: constructors, destructors\n",
        "\n",
        "String representation: str(obj) → obj.__str__()\n",
        "\n",
        "Q6 Explain the concept of inheritance in OOP ?\n",
        "Ans-Inheritance is one of the core principles of Object-Oriented Programming (OOP). It allows you to define a new class that inherits attributes and methods from an existing class. This mechanism enables code reusability and the creation of hierarchical relationships between classes.\n",
        "\n",
        "Q7 What is polymorphism in OOP?\n",
        "\n",
        "ans-\n",
        "\n",
        "Polymorphism in Object-Oriented Programming (OOP) means \"many forms\" — it allows objects of different classes to be treated as objects of a common parent class.\n",
        "\n",
        " Q8 How is encapsulation achieved in Python?\n",
        "\n",
        " Ans-Polymorphism in Object-Oriented Programming (OOP) means \"many forms\" — it allows objects of different classes to be treated as objects of a common parent class.\n",
        "\n",
        "In simple terms, polymorphism lets the same function or method behave differently based on the object that calls it.\n",
        "\n",
        "Q9 What is a constructor in Python?\n",
        "Ans-ChatGPT said:\n",
        "\n",
        "A constructor in Python is a special method used to initialize objects when a class is created.\n",
        "It allows you to assign initial values to object attributes automatically.\n",
        "\n",
        "example-class Student:\n",
        "    def __init__(self, name, age):\n",
        "        self.name = name    # initializing instance variable\n",
        "        self.age = age\n",
        "\n",
        "    def display(self):\n",
        "        print(\"Name:\", self.name)\n",
        "        print(\"Age:\", self.age)\n",
        "\n",
        "# Creating objects\n",
        "s1 = Student(\"Ravi\", 18)\n",
        "s2 = Student(\"Anita\", 20)\n",
        "\n",
        "s1.display()\n",
        "s2.display()\n",
        "\n",
        "\n",
        "Q10  What are class and static methods in Python?\n",
        "\n",
        "Ans-A class method is a method that works with the class itself, rather than with instances (objects).\n",
        "It can access or modify class variables, but not instance variables\n",
        "\n",
        "eg-@classmethod\n",
        "def method_name(cls, ...):\n",
        "\n",
        "while in static method A static method does not depend on either the class (cls) or the object (self).\n",
        "It behaves like a normal function but is kept inside a class for logical grouping.\n",
        "\n",
        "eg -@staticmethod\n",
        "def method_name(...):\n",
        "\n",
        "\n",
        "Q11 What is method overloading in Python ?\n",
        "Ans-Method overloading means defining multiple methods with the same name but different parameters (number or type).\n",
        "It allows a class to perform different actions based on the arguments passed to a method.\n",
        "\n",
        "Q12  What is method overriding in OOP ?\n",
        "Ans-Method overriding occurs when a child class (subclass) defines a method that already exists in its parent class (superclass), but with a different implementation.\n",
        "\n",
        "It allows a subclass to modify or extend the behavior of a method inherited from the parent class\n",
        "\n",
        "Q13  What is a property decorator in Python ?\n",
        "Ans-The @property decorator in Python is used to create getters, setters, and deleters for class attributes — in a clean and Pythonic way, without calling explicit methods.\n",
        "\n",
        "It allows you to access methods like attributes, making your code more readable and encapsulated.\n",
        "\n",
        "Q14  Why is polymorphism important in OOP ?\n",
        "Ans -Polymorphism — meaning “many forms” — is one of the four core principles of Object-Oriented Programming (OOP), along with encapsulation, inheritance, and abstraction.\n",
        "\n",
        "It allows the same interface or method to behave differently depending on the object that calls it.\n",
        "\n",
        "Q15 What is an abstract class in Python ?\n",
        "Ans - An abstract class in Python is a class that cannot be instantiated directly — it serves as a blueprint for other classes.\n",
        "\n",
        "It is used when you want to define a common interface (set of methods) that all subclasses must implement.\n",
        "\n",
        "Q16  What are the advantages of OOP ?\n",
        "Ans- Object-Oriented Programming (OOP) is a programming paradigm based on objects and classes, which brings several advantages over procedural programming.\n",
        "✅ 1. Modularity\n",
        "✅ 2. Reusability\n",
        "✅ 3. Encapsulation\n",
        "✅ 4. Polymorphism\n",
        "✅ 5. Abstraction\n",
        "\n",
        "Q17 What is the difference between a class variable and an instance variable ?\n",
        "Ans-\n",
        "Class variables → same for all objects.\n",
        "\n",
        "Instance variables → different for each object.\n",
        "\n",
        "Example-\n",
        "class Student:\n",
        "    school_name = \"Greenwood High\"  # class variable\n",
        "\n",
        "    def __init__(self, name, grade):\n",
        "        self.name = name        # instance variable\n",
        "        self.grade = grade      # instance variable\n",
        "\n",
        "# Create two objects\n",
        "s1 = Student(\"Alice\", \"A\")\n",
        "s2 = Student(\"Bob\", \"B\")\n",
        "\n",
        "print(s1.school_name)  # Greenwood High\n",
        "print(s2.school_name)  # Greenwood High\n",
        "\n",
        "# Changing class variable affects all instances\n",
        "Student.school_name = \"Sunrise Academy\"\n",
        "print(s1.school_name)  # Sunrise Academy\n",
        "print(s2.school_name)  # Sunrise Academy\n",
        "\n",
        "# Changing instance variable affects only that object\n",
        "s1.grade = \"A+\"\n",
        "print(s1.grade)  # A+\n",
        "print(s2.grade)  # B\n",
        "\n",
        "Q18  What is multiple inheritance in Python ?\n",
        "Ans - Multiple inheritance in Python means that a class can inherit from more than one parent class.\n",
        "In other words, a child (derived) class can access the attributes and methods of multiple base classes.\n",
        "\n",
        "example-\n",
        "class Parent1:\n",
        "    # code for parent 1\n",
        "\n",
        "class Parent2:\n",
        "    # code for parent 2\n",
        "\n",
        "class Child(Parent1, Parent2):\n",
        "    # code for child class\n",
        " Q19  Explain the purpose of ‘’__str__’ and ‘__repr__’ ‘ methods in Python ?\n",
        " Ans- In Python, both __str__ and __repr__ are special methods (also called dunder methods, short for “double underscore”) used to define string representations of objects — but they serve different purposes.\n",
        "\n",
        "Here’s the breakdown 👇\n",
        "\n",
        "🔹 1. __str__ (User-friendly string)\n",
        "\n",
        "Purpose: To return a readable, human-friendly string representation of an object.\n",
        "\n",
        "Used when you call print() or str() on an object.\n",
        "\n",
        "It’s meant to be informative for the end user.\n",
        "\n",
        "🔹 2. __repr__ (Developer-friendly string)\n",
        "\n",
        "Purpose: To return an unambiguous, detailed string representation of an object.\n",
        "\n",
        "Used in the Python shell or when you call repr() on an object.\n",
        "\n",
        "It’s meant to be useful for debugging and developers.\n",
        "\n",
        "Ideally, it should return a string that could be used to recreate the object\n",
        "\n",
        "Q20 What is the significance of the ‘super()’ function in Python ?\n",
        "Ans-The super() function in Python is used to call a method from the parent (or superclass) inside a child (or subclass).\n",
        "\n",
        "It helps ensure that the parent class is properly initialized or its methods are executed without having to explicitly name the parent class.\n",
        "example\n",
        "class Animal:\n",
        "    def speak(self):\n",
        "        print(\"Animal speaks\")\n",
        "\n",
        "class Dog(Animal):\n",
        "    def speak(self):\n",
        "        super().speak()   # Call Animal’s speak()\n",
        "        print(\"Dog barks\")\n",
        "\n",
        "d = Dog()\n",
        "d.speak()\n",
        "\n",
        "\n",
        "Q21 What is the significance of the __del__ method in Python ?\n",
        "\n",
        "Ans-The __del__ method in Python is a destructor — a special method that is called automatically when an object is about to be destroyed (i.e., when it is no longer needed and its memory is being freed by the garbage collector).\n",
        "\n",
        "Example\n",
        "class FileHandler:\n",
        "    def __init__(self, filename):\n",
        "        self.file = open(filename, 'w')\n",
        "        print(\"File opened.\")\n",
        "\n",
        "    def write_data(self, data):\n",
        "        self.file.write(data)\n",
        "\n",
        "    def __del__(self):\n",
        "        self.file.close()\n",
        "        print(\"File closed automatically when object deleted.\")\n",
        "\n",
        "# Create object\n",
        "f = FileHandler(\"example.txt\")\n",
        "f.write_data(\"Hello, Python!\")\n",
        "\n",
        "# Delete object manually\n",
        "del f\n",
        "\n",
        "Q22  What is the difference between @staticmethod and @classmethod in Python ?\n",
        "Ans-\n",
        "1. @staticmethod\n",
        "\n",
        "Does not take any reference to the class or instance.\n",
        "\n",
        "It behaves like a regular function inside a class — grouped logically but doesn’t depend on the class or its objects.\n",
        "\n",
        "Can be called using class name or object.\n",
        "@staticmethod\n",
        "def method_name():\n",
        "    # code\n",
        " 2. @classmethod\n",
        "\n",
        "Takes a reference to the class itself as the first argument (usually named cls).\n",
        "\n",
        "It can access or modify class variables, and is shared by all instances.\n",
        "\n",
        "Can also be called using class name or object.\n",
        "\n",
        "@classmethod\n",
        "def method_name(cls):\n",
        "    # code\n",
        "\n",
        "\n",
        "Q23  How does polymorphism work in Python with inheritance ?\n",
        "Ans-Polymorphism in Python with inheritance means that a child class can define its own version of a method that also exists in the parent class, and Python will automatically call the appropriate version depending on the object that is used.\n",
        "\n",
        " Q24 What is method chaining in Python OOP ?\n",
        "\n",
        " Ans-Method chaining in Python OOP is a technique where multiple methods are called sequentially on the same object in a single line, with each method returning the object itself (self).\n",
        "\n",
        "It allows you to write clean, concise, and readable code by linking method calls together — like a chain.\n",
        "\n",
        "\n",
        "\n",
        "Q25  What is the purpose of the __call__ method in Python?\n",
        "\n",
        "Ans-The __call__ method in Python allows an object to be called like a function.\n",
        "\n",
        "In other words, if a class defines the __call__() method, then its instances can be invoked using parentheses () — just like a regular function call.\n",
        "\n",
        "Ans\n",
        "class Greeter:\n",
        "    def __init__(self, name):\n",
        "        self.name = name\n",
        "\n",
        "    def __call__(self):\n",
        "        print(f\"Hello, {self.name}!\")\n",
        "\n",
        "# Create object\n",
        "g = Greeter(\"Alice\")\n",
        "\n",
        "# Call object like a function\n",
        "g()  # Calls g.__call__()\n",
        "\n"
      ],
      "metadata": {
        "id": "fX4gzFHzN9Yg"
      }
    },
    {
      "cell_type": "code",
      "source": [
        "###Q1 1. Create a parent class Animal with a method speak() that prints a generic message. Create a child class Dog\n",
        "# that overrides the speak() method to print \"Bark!\".\n",
        "\n",
        "class Animal:\n",
        "  def speak(self):\n",
        "      print(\"animal make soumd,\")\n",
        "\n",
        "class Dog(Animal): # Corrected class name here to match parent class\n",
        "  def speak(self):\n",
        "    print(\"bark!\")\n",
        "\n",
        "animal=Animal()\n",
        "animal.speak()\n",
        "\n",
        "dog=Dog()\n",
        "dog.speak()"
      ],
      "metadata": {
        "colab": {
          "base_uri": "https://localhost:8080/"
        },
        "id": "fzl6AQOLsQLl",
        "outputId": "4587498c-674c-4ced-97c4-24862acf5897"
      },
      "execution_count": null,
      "outputs": [
        {
          "output_type": "stream",
          "name": "stdout",
          "text": [
            "animal make soumd,\n",
            "bark!\n"
          ]
        }
      ]
    },
    {
      "cell_type": "code",
      "source": [
        "###Q2  2. Write a program to create an abstract class Shape with a method area(). Derive classes Circle and Rectangle\n",
        "# from it and implement the area() method in both.\n",
        "\n",
        "from abc import ABC, abstractmethod\n",
        "import math\n",
        "\n",
        "class Shape(ABC):\n",
        "    @abstractmethod\n",
        "    def area(self):\n",
        "        pass\n",
        "\n",
        "class Circle(Shape):\n",
        "    def __init__(self, radius):\n",
        "        self.radius = radius\n",
        "\n",
        "    def area(self):\n",
        "        return math.pi*(self.radius**2)\n",
        "\n",
        "class Rectangle(Shape):\n",
        "    def __init__(self, length, width):\n",
        "        self.length = length\n",
        "        self.width = width\n",
        "\n",
        "    def area(self):\n",
        "        return self.length * self.width\n",
        "\n",
        "# Example usage:\n",
        "circle = Circle(5)\n",
        "rectangle = Rectangle(4, 6)\n",
        "\n",
        "print(f\"Area of Circle: {circle.area()}\")\n",
        "print(f\"Area of Rectangle: {rectangle.area()}\")"
      ],
      "metadata": {
        "id": "fIb1tPkuuyNl",
        "colab": {
          "base_uri": "https://localhost:8080/"
        },
        "outputId": "1776cfb0-1f61-401d-d75e-9f5d71d07b6a"
      },
      "execution_count": null,
      "outputs": [
        {
          "output_type": "stream",
          "name": "stdout",
          "text": [
            "Area of Circle: 78.53981633974483\n",
            "Area of Rectangle: 24\n"
          ]
        }
      ]
    },
    {
      "cell_type": "code",
      "source": [
        "##Q3  3. Implement a multi-level inheritance scenario where a class Vehicle has an attribute type. Derive a class Car\n",
        "# and further derive a class ElectricCar that adds a battery attribute.\n",
        "\n",
        "class Vehicle:\n",
        "  def __init__(self,type):\n",
        "    self.type=type\n",
        "\n",
        "class Car(Vehicle):\n",
        "  def __init__(self,type,brand):\n",
        "    super().__init__(type)\n",
        "    self.brand=brand\n",
        "\n",
        "class ElectricCar(Car):\n",
        "  def __init__(self,type,brand,battery):\n",
        "    super().__init__(type,brand)\n",
        "    self.battery=battery\n",
        "#example\n",
        "\n",
        "my_car=ElectricCar(\"Electric vehicle\",\"Tesla\",\"10000kwh\")\n",
        "print(my_car.type)\n",
        "print(my_car.brand)\n",
        "print(my_car.battery)"
      ],
      "metadata": {
        "colab": {
          "base_uri": "https://localhost:8080/"
        },
        "id": "vn1eHch7dGUV",
        "outputId": "7a119b90-0296-430a-f59b-bba45c5b1a35"
      },
      "execution_count": null,
      "outputs": [
        {
          "output_type": "stream",
          "name": "stdout",
          "text": [
            "Electric vehicle\n",
            "Tesla\n",
            "10000kwh\n"
          ]
        }
      ]
    },
    {
      "cell_type": "code",
      "source": [
        "###4 Demonstrate polymorphism by creating a base class Bird with a method fly(). Create two derived classes\n",
        "#Sparrow and Penguin that override the fly() method.\n",
        "#ans\n",
        "\n",
        "#base class\n",
        "class Bird:\n",
        "    def fly(self):\n",
        "        print(\"some bird can fly\")\n",
        "\n",
        "##derived classes:saprrow\n",
        "class sparrow(Bird):\n",
        "    def fly(self):\n",
        "        print(\"sparrow can fly high in the sky!\")\n",
        "\n",
        "## derived class:penguin\n",
        "\n",
        "class penguin(Bird):\n",
        "    def fly(self):\n",
        "        print(\"penguin can't fly but they can swim!\")\n",
        "\n",
        "#example\n",
        "birds=[sparrow(),penguin()]\n",
        "for bird in birds:\n",
        "    bird.fly()"
      ],
      "metadata": {
        "id": "SdKb2EHIhLqk",
        "colab": {
          "base_uri": "https://localhost:8080/"
        },
        "outputId": "82f94255-a099-465f-c33a-301f7202870f"
      },
      "execution_count": 5,
      "outputs": [
        {
          "output_type": "stream",
          "name": "stdout",
          "text": [
            "sparrow can fly high in the sky!\n",
            "penguin can't fly but they can swim!\n"
          ]
        }
      ]
    },
    {
      "cell_type": "markdown",
      "source": [
        "Q5  \n",
        "5. Write a program to demonstrate encapsulation by creating a class BankAccount with private attributes\n",
        "balance and methods to deposit, withdraw, and check balance?"
      ],
      "metadata": {
        "id": "6lB27a6OpCBa"
      }
    },
    {
      "cell_type": "code",
      "source": [
        "# class bank account\n",
        "class BankAccount:\n",
        "    def __init__(self, initial_balance=0):\n",
        "        self.__balance = initial_balance   # private attribute\n",
        "\n",
        "    # Method to deposit money\n",
        "    def deposit(self, amount):\n",
        "        if amount > 0:\n",
        "            self.__balance += amount\n",
        "            print(f\"Deposited: {amount}\")\n",
        "        else:\n",
        "            print(\"Deposit amount must be positive.\")\n",
        "\n",
        "    # Method to withdraw money\n",
        "    def withdraw(self, amount):\n",
        "        if 0 < amount <= self.__balance:\n",
        "            self.__balance -= amount\n",
        "            print(f\"Withdrew: {amount}\")\n",
        "        else:\n",
        "            print(\"Insufficient balance or invalid amount.\")\n",
        "\n",
        "    # Method to check balance\n",
        "    def check_balance(self):\n",
        "        print(f\"Current Balance: {self.__balance}\")\n",
        "\n",
        "\n",
        "# Example usage\n",
        "account = BankAccount(1000)\n",
        "account.check_balance()\n",
        "\n",
        "account.deposit(500)\n",
        "account.check_balance()\n",
        "\n",
        "account.withdraw(100)\n",
        "account.check_balance()\n",
        "\n",
        "# Trying to access private variable directly will raise an AttributeError\n",
        "# print(account.__balance)\n",
        "\n",
        "# Accessing using name mangling (not recommended for general use)\n",
        "print(f\"Accessing mangled name: {account._BankAccount__balance}\")\n",
        "\n",
        "# Accessing using the public method (recommended)\n",
        "print(\"Accessing using check_balance method:\")\n",
        "account.check_balance()"
      ],
      "metadata": {
        "colab": {
          "base_uri": "https://localhost:8080/"
        },
        "id": "4sncg2-EpL1S",
        "outputId": "cf503f48-187e-42a2-e035-0d2383ae652b"
      },
      "execution_count": 6,
      "outputs": [
        {
          "output_type": "stream",
          "name": "stdout",
          "text": [
            "Current Balance: 1000\n",
            "Deposited: 500\n",
            "Current Balance: 1500\n",
            "Withdrew: 100\n",
            "Current Balance: 1400\n",
            "Accessing mangled name: 1400\n",
            "Accessing using check_balance method:\n",
            "Current Balance: 1400\n"
          ]
        }
      ]
    },
    {
      "cell_type": "markdown",
      "source": [
        "Q6 Demonstrate runtime polymorphism using a method play() in a base class Instrument. Derive classes Guitar\n",
        "and Piano that implement their own version of play() ?"
      ],
      "metadata": {
        "id": "3_OQZeh2qbg6"
      }
    },
    {
      "cell_type": "code",
      "source": [
        "\n",
        "# Base class\n",
        "class Instrument:\n",
        "    def play(self):\n",
        "        print(\"This instrument makes a sound.\")\n",
        "\n",
        "# Derived class: Guitar\n",
        "class Guitar(Instrument):\n",
        "    def play(self):\n",
        "        print(\"Playing the guitar: Strum strum!\")\n",
        "\n",
        "# Derived class: Piano\n",
        "class Piano(Instrument):\n",
        "    def play(self):\n",
        "        print(\"Playing the piano: Plink plonk!\")\n",
        "\n",
        "# Example usage\n",
        "instruments = [Guitar(), Piano()]\n",
        "\n",
        "for instrument in instruments:\n",
        "    instrument.play()"
      ],
      "metadata": {
        "colab": {
          "base_uri": "https://localhost:8080/"
        },
        "id": "jPPy6U3Vsxla",
        "outputId": "89ce654f-81be-4013-8f92-863fb4b50244"
      },
      "execution_count": 7,
      "outputs": [
        {
          "output_type": "stream",
          "name": "stdout",
          "text": [
            "Playing the guitar: Strum strum!\n",
            "Playing the piano: Plink plonk!\n"
          ]
        }
      ]
    },
    {
      "cell_type": "markdown",
      "source": [
        "Q 7  Create a class MathOperations with a class method add_numbers() to add two numbers and a static\n",
        "method subtract_numbers() to subtract two numbers."
      ],
      "metadata": {
        "id": "sezCPFz1tYPh"
      }
    },
    {
      "cell_type": "code",
      "source": [
        "\n",
        "class MathOperations:\n",
        "    # Class method to add two numbers\n",
        "    @classmethod\n",
        "    def add_numbers(cls, a, b):\n",
        "        return a + b\n",
        "\n",
        "    # Static method to subtract two numbers\n",
        "    @staticmethod\n",
        "    def subtract_numbers(a, b):\n",
        "        return a - b\n",
        "\n",
        "\n",
        "# Example usage\n",
        "print(\"Addition:\", MathOperations.add_numbers(10, 15))\n",
        "print(\"Subtraction:\", MathOperations.subtract_numbers(15, 5))"
      ],
      "metadata": {
        "colab": {
          "base_uri": "https://localhost:8080/"
        },
        "id": "DxGQmIWitadQ",
        "outputId": "85db8ca5-62e4-4cb1-cbfa-c0e8f7de7195"
      },
      "execution_count": 8,
      "outputs": [
        {
          "output_type": "stream",
          "name": "stdout",
          "text": [
            "Addition: 25\n",
            "Subtraction: 10\n"
          ]
        }
      ]
    },
    {
      "cell_type": "markdown",
      "source": [
        "Q8  Implement a class Person with a class method to count the total number of persons created.?"
      ],
      "metadata": {
        "id": "-QtclZW0t9tZ"
      }
    },
    {
      "cell_type": "code",
      "source": [
        "\n",
        "class Person:\n",
        "    # Class variable to keep track of count\n",
        "    count = 0\n",
        "\n",
        "    def __init__(self, name):\n",
        "        self.name = name\n",
        "        Person.count += 1   # Increment count whenever a new object is created\n",
        "\n",
        "    # Class method to get total number of persons\n",
        "    @classmethod\n",
        "    def total_persons(cls):\n",
        "        return cls.count\n",
        "\n",
        "\n",
        "# Example usage\n",
        "p1 = Person(\"Alice\")\n",
        "p2 = Person(\"Bob\")\n",
        "p3 = Person(\"Charlie\")\n",
        "\n",
        "print(\"Total persons created:\", Person.total_persons())"
      ],
      "metadata": {
        "colab": {
          "base_uri": "https://localhost:8080/"
        },
        "id": "0P-NNGMBuLNg",
        "outputId": "948a21d1-f0a9-4c4f-b593-71631230d700"
      },
      "execution_count": 9,
      "outputs": [
        {
          "output_type": "stream",
          "name": "stdout",
          "text": [
            "Total persons created: 3\n"
          ]
        }
      ]
    },
    {
      "cell_type": "markdown",
      "source": [
        "Q9 9. Write a class Fraction with attributes numerator and denominator. Override the str method to display the fraction as \"numerator/denominator\"?"
      ],
      "metadata": {
        "id": "UG3hffVQuyoY"
      }
    },
    {
      "cell_type": "code",
      "source": [
        "\n",
        "class Fraction:\n",
        "    def __init__(self, numerator, denominator):\n",
        "        if denominator == 0:\n",
        "            raise ValueError(\"Denominator cannot be zero.\")\n",
        "        self.numerator = numerator\n",
        "        self.denominator = denominator\n",
        "\n",
        "    # Overriding __str__ method\n",
        "    def __str__(self):\n",
        "        return f\"{self.numerator}/{self.denominator}\"\n",
        "\n",
        "\n",
        "# Example usage\n",
        "f1 = Fraction(5, 4)\n",
        "f2 = Fraction(8, 2)\n",
        "\n",
        "print(f1)\n",
        "print(f2)"
      ],
      "metadata": {
        "colab": {
          "base_uri": "https://localhost:8080/"
        },
        "id": "dbx_vrLru5v4",
        "outputId": "e3e0e7ae-2016-46f2-cc3b-38ed0c4de8a2"
      },
      "execution_count": 11,
      "outputs": [
        {
          "output_type": "stream",
          "name": "stdout",
          "text": [
            "5/4\n",
            "8/2\n"
          ]
        }
      ]
    },
    {
      "cell_type": "markdown",
      "source": [
        "Q10 Demonstrate operator overloading by creating a class Vector and overriding the add method to add two vectors.?"
      ],
      "metadata": {
        "id": "NxAp7twHvZ94"
      }
    },
    {
      "cell_type": "code",
      "source": [
        "class Vector:\n",
        "    def __init__(self, x, y):\n",
        "        self.x = x\n",
        "        self.y = y\n",
        "\n",
        "    # Overriding + operator\n",
        "    def __add__(self, other):\n",
        "        return Vector(self.x + other.x, self.y + other.y)\n",
        "\n",
        "    # For nice string representation\n",
        "    def __str__(self):\n",
        "        return f\"({self.x}, {self.y})\"\n",
        "\n",
        "\n",
        "# Example usage\n",
        "v1 = Vector(2, 3)\n",
        "v2 = Vector(4, 5)\n",
        "\n",
        "v3 = v1 + v2\n",
        "\n",
        "print(\"v1:\", v1)\n",
        "print(\"v2:\", v2)\n",
        "print(\"v1 + v2 =\", v3)"
      ],
      "metadata": {
        "colab": {
          "base_uri": "https://localhost:8080/"
        },
        "id": "JvQWKvo9vkio",
        "outputId": "09e8f463-ea00-4b3c-c43c-c30eab15b7a3"
      },
      "execution_count": 13,
      "outputs": [
        {
          "output_type": "stream",
          "name": "stdout",
          "text": [
            "v1: (2, 3)\n",
            "v2: (4, 5)\n",
            "v1 + v2 = (6, 8)\n"
          ]
        }
      ]
    },
    {
      "cell_type": "markdown",
      "source": [
        "Q11 11. Create a class Person with attributes name and age. Add a method greet() that prints \"Hello, my name is {name} and I am {age} years old\"."
      ],
      "metadata": {
        "id": "qvWTQyBzv-Pw"
      }
    },
    {
      "cell_type": "code",
      "source": [
        "\n",
        "class Person:\n",
        "    def __init__(self, name, age):\n",
        "        self.name = name\n",
        "        self.age = age\n",
        "\n",
        "    # Method to greet\n",
        "    def greet(self):\n",
        "        print(f\"Hello, my name is {self.name} and I am {self.age} years old.\")\n",
        "\n",
        "\n",
        "# Example usage\n",
        "p1 = Person(\"ashish gupta\", 35)\n",
        "p2 = Person(\"reena\", 28)\n",
        "\n",
        "p1.greet()\n",
        "p2.greet()"
      ],
      "metadata": {
        "colab": {
          "base_uri": "https://localhost:8080/"
        },
        "id": "8niTaNINwUPo",
        "outputId": "5317b44b-243d-477b-bee4-a50d178bce5a"
      },
      "execution_count": 14,
      "outputs": [
        {
          "output_type": "stream",
          "name": "stdout",
          "text": [
            "Hello, my name is ashish gupta and I am 35 years old.\n",
            "Hello, my name is reena and I am 28 years old.\n"
          ]
        }
      ]
    },
    {
      "cell_type": "markdown",
      "source": [
        "Q12 Implement a class Student with attributes name and grades. Create a method average_grade() to compute the average of the grades.?"
      ],
      "metadata": {
        "id": "V_uoxxX4yL9X"
      }
    },
    {
      "cell_type": "code",
      "source": [
        "\n",
        "class Student:\n",
        "    def __init__(self, name, grades):\n",
        "        self.name = name\n",
        "        self.grades = grades  # List of numeric grades\n",
        "\n",
        "    # Method to compute average grade\n",
        "    def average_grade(self):\n",
        "        if not self.grades:\n",
        "            return 0  # Avoid division by zero\n",
        "        return sum(self.grades) / len(self.grades)\n",
        "\n",
        "\n",
        "# Example usage\n",
        "s1 = Student(\"ASHISH\", [89, 90, 78, 92])\n",
        "s2 = Student(\"REENA\", [99, 92, 98])\n",
        "\n",
        "print(f\"{s1.name}'s average grade: {s1.average_grade():.2f}\")\n",
        "print(f\"{s2.name}'s average grade: {s2.average_grade():.2f}\")"
      ],
      "metadata": {
        "colab": {
          "base_uri": "https://localhost:8080/"
        },
        "id": "FgTYWUQoyewf",
        "outputId": "99f523bc-ce07-4fdb-84af-e863d3829c1a"
      },
      "execution_count": 15,
      "outputs": [
        {
          "output_type": "stream",
          "name": "stdout",
          "text": [
            "ASHISH's average grade: 87.25\n",
            "REENA's average grade: 96.33\n"
          ]
        }
      ]
    },
    {
      "cell_type": "code",
      "source": [
        "# 13  Create a class Rectangle with methods set_dimensions() to set the dimensions and area() to calculate the area.\n",
        "class Rectangle:\n",
        "    def __init__(self):\n",
        "        self.length = 0\n",
        "        self.width = 0\n",
        "\n",
        "    # Method to set dimensions\n",
        "    def set_dimensions(self, length, width):\n",
        "        self.length = length\n",
        "        self.width = width\n",
        "\n",
        "    # Method to calculate area\n",
        "    def area(self):\n",
        "        return self.length * self.width\n",
        "\n",
        "\n",
        "# Example usage\n",
        "rect = Rectangle()\n",
        "rect.set_dimensions(5, 3)\n",
        "print(\"Area of Rectangle:\", rect.area())"
      ],
      "metadata": {
        "colab": {
          "base_uri": "https://localhost:8080/"
        },
        "id": "Vae78I52ys3v",
        "outputId": "0200458b-cde8-484f-883f-910c9f7f5cf3"
      },
      "execution_count": 16,
      "outputs": [
        {
          "output_type": "stream",
          "name": "stdout",
          "text": [
            "Area of Rectangle: 15\n"
          ]
        }
      ]
    },
    {
      "cell_type": "markdown",
      "source": [
        "Q 14 Create a class Employee with a method calculate_salary() that computes the salary based on hours worked and hourly rate. Create a derived class Manager that adds a bonus to the salary . ?"
      ],
      "metadata": {
        "id": "9Cv1kPjSznXP"
      }
    },
    {
      "cell_type": "code",
      "source": [
        "\n",
        "# Base class\n",
        "class Employee:\n",
        "    def __init__(self, name, hours_worked, hourly_rate):\n",
        "        self.name = name\n",
        "        self.hours_worked = hours_worked\n",
        "        self.hourly_rate = hourly_rate\n",
        "\n",
        "    # Method to calculate salary\n",
        "    def calculate_salary(self):\n",
        "        return self.hours_worked * self.hourly_rate\n",
        "\n",
        "\n",
        "# Derived class\n",
        "class Manager(Employee):\n",
        "    def __init__(self, name, hours_worked, hourly_rate, bonus):\n",
        "        super().__init__(name, hours_worked, hourly_rate)\n",
        "        self.bonus = bonus\n",
        "\n",
        "    # Overriding calculate_salary to include bonus\n",
        "    def calculate_salary(self):\n",
        "        base_salary = super().calculate_salary()\n",
        "        return base_salary + self.bonus\n",
        "\n",
        "\n",
        "# Example usage\n",
        "emp = Employee(\"Ashish\", 40, 20)\n",
        "mgr = Manager(\"reena\", 40, 25, 500)\n",
        "\n",
        "print(f\"{emp.name}'s Salary: ${emp.calculate_salary()}\")\n",
        "print(f\"{mgr.name}'s Salary: ${mgr.calculate_salary()}\")"
      ],
      "metadata": {
        "colab": {
          "base_uri": "https://localhost:8080/"
        },
        "id": "kKiSRq8ezzrQ",
        "outputId": "03baee14-fb6f-455f-d06e-0b5d770a79c2"
      },
      "execution_count": 17,
      "outputs": [
        {
          "output_type": "stream",
          "name": "stdout",
          "text": [
            "Ashish's Salary: $800\n",
            "reena's Salary: $1500\n"
          ]
        }
      ]
    },
    {
      "cell_type": "markdown",
      "source": [
        "Q15 Create a class Product with attributes name, price, and quantity. Implement a method total_price() that calculates the total price of the product."
      ],
      "metadata": {
        "id": "cTAcSdhk0tx2"
      }
    },
    {
      "cell_type": "code",
      "source": [
        "class product:\n",
        "    def __init__(self,name,price,quantity):\n",
        "        self.name=name\n",
        "        self.price=price\n",
        "        self.quantity=quantity\n",
        "\n",
        "    def total_price(self):\n",
        "        return self.price*self.quantity\n",
        "\n",
        "# example\n",
        "\n",
        "p1=product(\"apple\",10,5)\n",
        "p2=product(\"banana\",12,5)\n",
        "\n",
        "print(f\"total price of {p1.name} is {p1.total_price()}\")\n",
        "print(f\"total price of {p2.name} is {p2.total_price()}\")"
      ],
      "metadata": {
        "colab": {
          "base_uri": "https://localhost:8080/"
        },
        "id": "-KZMcV5U04rW",
        "outputId": "b1d2e2de-164f-48b1-b31b-632661081bfa"
      },
      "execution_count": 34,
      "outputs": [
        {
          "output_type": "stream",
          "name": "stdout",
          "text": [
            "total price of apple is 50\n",
            "total price of banana is 60\n"
          ]
        }
      ]
    },
    {
      "cell_type": "markdown",
      "source": [
        "16.16. Create a class Animal with an abstract method sound(). Create two derived classes Cow and Sheep that implement the sound() method."
      ],
      "metadata": {
        "id": "SmNmNfDH4x5u"
      }
    },
    {
      "cell_type": "code",
      "source": [
        "\n",
        "from abc import ABC, abstractmethod\n",
        "\n",
        "# Abstract base class\n",
        "class Animal(ABC):\n",
        "    @abstractmethod\n",
        "    def sound(self):\n",
        "        pass\n",
        "\n",
        "# Derived class: Cow\n",
        "class Cow(Animal):\n",
        "    def sound(self):\n",
        "        print(\"Cow says Moo!\")\n",
        "\n",
        "# Derived class: Sheep\n",
        "class Sheep(Animal):\n",
        "    def sound(self):\n",
        "        print(\"Sheep says Baa!\")\n",
        "\n",
        "\n",
        "# Example usage\n",
        "animals = [Cow(), Sheep()]\n",
        "\n",
        "for animal in animals:\n",
        "    animal.sound()"
      ],
      "metadata": {
        "colab": {
          "base_uri": "https://localhost:8080/"
        },
        "id": "oQnppj6g45Pd",
        "outputId": "6bc409b8-d973-4f66-c5ff-6ebca6ef6b80"
      },
      "execution_count": 35,
      "outputs": [
        {
          "output_type": "stream",
          "name": "stdout",
          "text": [
            "Cow says Moo!\n",
            "Sheep says Baa!\n"
          ]
        }
      ]
    },
    {
      "cell_type": "markdown",
      "source": [
        "17.Create a class Book with attributes title, author, and year_published. Add a method get_book_info() that returns a formatted string with the book's details."
      ],
      "metadata": {
        "id": "jMfY5o5Z5Si8"
      }
    },
    {
      "cell_type": "code",
      "source": [
        "\n",
        "class Book:\n",
        "    def __init__(self, title, author, year_published):\n",
        "        self.title = title\n",
        "        self.author = author\n",
        "        self.year_published = year_published\n",
        "\n",
        "    # Method to return book info\n",
        "    def get_book_info(self):\n",
        "        return f\"'{self.title}' by {self.author}, published in {self.year_published}\"\n",
        "\n",
        "\n",
        "# Example usage\n",
        "book1 = Book(\"1984\", \"George Orwell\", 1949)\n",
        "book2 = Book(\"To Kill a Mockingbird\", \"Harper Lee\", 1960)\n",
        "\n",
        "print(book1.get_book_info())\n",
        "print(book2.get_book_info())"
      ],
      "metadata": {
        "colab": {
          "base_uri": "https://localhost:8080/"
        },
        "id": "DuJocl8a5YXt",
        "outputId": "bd029540-61ea-4094-8724-98fb83ac1084"
      },
      "execution_count": 36,
      "outputs": [
        {
          "output_type": "stream",
          "name": "stdout",
          "text": [
            "'1984' by George Orwell, published in 1949\n",
            "'To Kill a Mockingbird' by Harper Lee, published in 1960\n"
          ]
        }
      ]
    },
    {
      "cell_type": "markdown",
      "source": [
        "18.Create a class House with attributes address and price. Create a derived class Mansion that adds an attribute number_of_rooms."
      ],
      "metadata": {
        "id": "FO5NsyH45wHE"
      }
    },
    {
      "cell_type": "code",
      "source": [
        "\n",
        "# Base class\n",
        "class House:\n",
        "    def __init__(self, address, price):\n",
        "        self.address = address\n",
        "        self.price = price\n",
        "\n",
        "    def display_info(self):\n",
        "        print(f\"Address: {self.address}, Price: ${self.price}\")\n",
        "\n",
        "\n",
        "# Derived class\n",
        "class Mansion(House):\n",
        "    def __init__(self, address, price, number_of_rooms):\n",
        "        super().__init__(address, price)\n",
        "        self.number_of_rooms = number_of_rooms\n",
        "\n",
        "    def display_info(self):\n",
        "        super().display_info()\n",
        "        print(f\"Number of rooms: {self.number_of_rooms}\")\n",
        "\n",
        "\n",
        "# Example usage\n",
        "house = House(\"123 Maple Street\", 250000)\n",
        "mansion = Mansion(\"1 Beverly Hills\", 5000000, 12)\n",
        "\n",
        "house.display_info()\n",
        "\n",
        "mansion.display_info()"
      ],
      "metadata": {
        "colab": {
          "base_uri": "https://localhost:8080/"
        },
        "id": "TX8O_RDc5340",
        "outputId": "67fc4bc7-7dd1-4d6a-df36-0370d1a94140"
      },
      "execution_count": 37,
      "outputs": [
        {
          "output_type": "stream",
          "name": "stdout",
          "text": [
            "Address: 123 Maple Street, Price: $250000\n",
            "Address: 1 Beverly Hills, Price: $5000000\n",
            "Number of rooms: 12\n"
          ]
        }
      ]
    },
    {
      "cell_type": "markdown",
      "source": [],
      "metadata": {
        "id": "J-1WYQ8X3Vq9"
      }
    },
    {
      "cell_type": "markdown",
      "source": [],
      "metadata": {
        "id": "wW6FjB4KzYvP"
      }
    }
  ]
}
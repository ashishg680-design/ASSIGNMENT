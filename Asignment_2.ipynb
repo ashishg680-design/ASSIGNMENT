{
  "nbformat": 4,
  "nbformat_minor": 0,
  "metadata": {
    "colab": {
      "provenance": []
    },
    "kernelspec": {
      "name": "python3",
      "display_name": "Python 3"
    },
    "language_info": {
      "name": "python"
    }
  },
  "cells": [
    {
      "cell_type": "code",
      "execution_count": null,
      "metadata": {
        "id": "y5t_EgPtT3nO"
      },
      "outputs": [],
      "source": []
    },
    {
      "cell_type": "markdown",
      "source": [
        "Q1  What are data structures, and why are they important"
      ],
      "metadata": {
        "id": "Sm1IxW3EU9h2"
      }
    },
    {
      "cell_type": "markdown",
      "source": [
        "Ans-Data structure is is a specialized,orgnized way of storing , orgnizing,and managing data in computer. so that it can be used efficiently  \n",
        " datastruture is made of two word **data**\n",
        " is the raw information eg.,name of list,product ,price  etc\n",
        " **structure** is a container of filling system\n",
        "** WHY IS IT IMPORTENT** ?\n",
        "Data structure are not just theoretical concept, they are crucial for writing good software.their importence can be summaried in tow key area efficiency and orgnization\n"
      ],
      "metadata": {
        "id": "295IGr6FVMi2"
      }
    },
    {
      "cell_type": "markdown",
      "source": [
        " Q2Explain the difference between mutable and immutable data types with examples"
      ],
      "metadata": {
        "id": "GMMSOLHWUikO"
      }
    },
    {
      "cell_type": "markdown",
      "source": [
        "ans-mutable-it can change after ceation\n",
        "example - list, set,dict\n",
        "\n",
        "immutble-after creation it can not be change\n",
        "example-string or integer"
      ],
      "metadata": {
        "id": "kf2HdTy2UCZ3"
      }
    },
    {
      "cell_type": "markdown",
      "source": [
        "Q3 What are the main differences between lists and tuples in Python\n",
        "\n",
        "Ans-list- you can change ,add, or remove element after the created list. its usses square bracket []\n",
        "\n",
        "Tuple- it can not change ,add,or remove element after cearted tuple\n",
        "its usses parentheses()"
      ],
      "metadata": {
        "id": "UDallAyNVLrG"
      }
    },
    {
      "cell_type": "code",
      "source": [],
      "metadata": {
        "id": "CXB3Qy3nfC0z"
      },
      "execution_count": null,
      "outputs": []
    },
    {
      "cell_type": "markdown",
      "source": [
        " Q 4 Describe how dictionaries store data\n",
        "\n",
        "ANS-Dictionaries are used to store data values in key:value pairs\n",
        "They are unordered, mutable(changeable) & don’t allow duplicate keys\n"
      ],
      "metadata": {
        "id": "UhSJQChHbQL0"
      }
    },
    {
      "cell_type": "markdown",
      "source": [
        " Q 5 Why might you use a set instead of a list in Python\n",
        "\n",
        " ANS-You would use a set instead of a list primarily for two reasons: semantics and performance. The core difference is that a list is for an ordered sequence of items, while a set is for storing unique, unordered items.\n"
      ],
      "metadata": {
        "id": "jIK-Klr0fhW6"
      }
    },
    {
      "cell_type": "markdown",
      "source": [
        "Q6 What is a string in Python, and how is it different from a list\n",
        "\n",
        "ANS - String is data type that stores a sequence of characters.\n",
        "Different between string and Strings are immutable sequences of characters, mostly used for text processing.\n",
        "\n",
        "Lists are mutable and can store a collection of heterogeneous elements."
      ],
      "metadata": {
        "id": "vHOo_rBKj1aJ"
      }
    },
    {
      "cell_type": "code",
      "source": [
        " Q7 How do tuples ensure data integrity in Python?\n",
        "\n",
        " Ans-Tuples in Python are a fundamental data structure that can help ensure data integrity in several ways\n",
        " like immutablility, ordered,hetrogeneous"
      ],
      "metadata": {
        "id": "17lZOU8nj8yh"
      },
      "execution_count": null,
      "outputs": []
    },
    {
      "cell_type": "markdown",
      "source": [
        "Q 8  What is a hash table, and how does it relate to dictionaries in Python?\n",
        "\n",
        "Ans-Hash Table Explanation\n",
        "A hash table is a data structure that stores key-value pairs in a way that allows for efficient lookup, insertion, and deletion of elements. It uses a hash function to map keys to specific indices of a backing array.\n",
        "\n",
        "Relation to Dictionaries in Python\n",
        "- Implementation: Python dictionaries are implemented as hash tables.\n",
        "- Key Characteristics:\n",
        "    - Key-Value Pairs: Dictionaries store data as key-value pairs, like hash tables.\n",
        "    - Efficient Lookups: Dictionaries allow fast lookups, insertions, and deletions due to the hash table implementation.\n",
        "    - Hashable Keys: Like hash tables, dictionary keys must be hashable (immutable).\n",
        "- Example:\n",
        "Creating a dictionary\n",
        "my_dict = {'name': 'John', 'age': 30}\n",
        "\n",
        "Lookup\n",
        "print(my_dict['name'])  # John\n",
        "\n",
        "Insertion\n",
        "my_dict['city'] = 'New York'\n",
        "print(my_dict)  # {'name': 'John', 'age': 30, 'city': 'New York'}\n",
        "\n"
      ],
      "metadata": {
        "id": "pmwOnBikpCo4"
      }
    },
    {
      "cell_type": "markdown",
      "source": [
        "Q 9  Can lists contain different data types in Python?\n",
        "\n",
        "Ans-Yes, lists in Python can contain different data types. You can mix integers, floats, strings, and other data types in a single list.\n",
        "\n",
        "Example:\n",
        "my_list = [1, \"hello\", 3.14, True]\n"
      ],
      "metadata": {
        "id": "mZFdcJnbqQ1g"
      }
    },
    {
      "cell_type": "markdown",
      "source": [
        "Q 10  Explain why strings are immutable in Python?\n",
        "\n",
        "Ans-in python string are immutable.this mean once a string is created. its contents can not be modified.beacause of these reason\n",
        "security, performes optimization, hasability, thread safty\n",
        "\n",
        " Q 11  What advantages do dictionaries offer over lists for certain tasks?\n",
        " Ans-dictionaries amd lists are both powerfull in python but they are design for different kind of task.\n",
        "\n",
        " the main advantages dictionaries offer over list\n",
        "\n",
        " example-1 fast lookup by key\n",
        " 2 key value pair organigation\n",
        " 3 avoids duplicates in key\n",
        " 4 more readable data access\n",
        " 5flexible data structures\n",
        "\n",
        " Q 12 Describe a scenario where using a tuple would be preferable over a list?\n",
        " Ans -A scenario where using a tuple would be preferable over a list is when you need an immutable collection of values.\n",
        "\n",
        "For example, consider representing a date like (day, month, year). Since a date shouldn't change once it's created, using a tuple like (12, \"September\", 2025) is preferable. Tuples are immutable, meaning you can't accidentally change the values later in your code, which helps prevent bugs. Plus, tuples are slightly more memory-efficient and faster than lists because of their immutability.\n",
        "\n",
        "Q 13 How do sets handle duplicate values in Python?\n",
        "Ans-Sets in Python handle duplicate values by automatically removing them. When you create a set from a collection of elements (like a list or tuple), Python ensures that each element in the set is unique.\n",
        "\n",
        "Q 14 How does the “in” keyword work differently for lists and dictionaries ?\n",
        "Ans-In Python, the in keyword is used for membership testing. Here's how it works differently for lists and dictionaries:\n",
        "\n",
        "- Lists: When used with a list, in checks if a value is present in the list.\n",
        "Example: 5 in [1, 2, 3, 4, 5] returns True.\n",
        "- Dictionaries: When used with a dictionary, in checks if a key is present in the dictionary.\n",
        "Example: 'name' in {'name': 'John', 'age': 30} returns True.\n",
        "\n",
        "Q 15 can you modify the elements of a tuple? Explain why or why not ?\n",
        "\n",
        "Ans-No, you can't modify the elements of a tuple. Tuples in Python are immutable data structures, meaning once a tuple is created, its elements cannot be changed, added, or removed. This is a fundamental property of tuples that distinguishes them from lists, which are mutable. If you need to modify a collection of items, you'd typically use a list instead of a tuple.\n",
        "\n",
        "Q 16 What is a nested dictionary, and give an example of its use case ?\n",
        "Ans - A nested dictionary is a dictionary where the value of a key is another dictionary. This allows for hierarchical data representation and is super useful for structuring complex data.\n",
        "\n",
        "Use case example:\n",
        "You wanna store info about students in different classes. Here's how you could do it with a nested dictionary in Python:\n",
        "students = {\n",
        "    \"Class 10A\": {\n",
        "        \"Rahul\": {\"age\": 15, \"marks\": 85},\n",
        "        \"Priya\": {\"age\": 14, \"marks\": 90}\n",
        "    },\n",
        "    \n",
        "\n",
        "  Q 17 describe the time complexity of accessing elements in a dictionary ?\n",
        "   Ans- The time complexity of accessing elements in a dictionary is O(1) on average. Dictionaries in most programming languages (like Python) use a hash table implementation, which allows for fast lookups. However, in the worst-case scenario (when there are lots of hash collisions), it can degrade to O(n). But generally, for a well-implemented dictionary, you can expect O(1) time complexity for accessing elements by their key.\n",
        "\n",
        "   Q 18  In what situations are lists preferred over dictionaries ?\n",
        "   Ans- Lists are preferred over dictionaries in situations where:\n",
        "- You need to maintain order of elements.\n",
        "- You need to allow duplicate values.\n",
        "- You need faster iteration over elements.\n",
        "- You don't need key-value pairs for data access.\n",
        "\n",
        " Q 19  Why are dictionaries considered unordered, and how does that affect data retrieval ?\n",
        " Ans- Dictionaries are considered unordered data structures because they don't maintain the order in which key-value pairs were inserted or arranged. In Python, for example, dictionaries (or dicts) don't guarantee any particular order of their elements until Python , where they maintain insertion order.\n",
        "\n",
        " Q 20 Explain the difference between a list and a dictionary in terms of data retrieval.\n",
        "\n",
        " Ans- In terms of data retrieval, the main difference between a list and a dictionary is how you access elements.\n",
        "\n",
        "- List: You access elements using their index (position in the list). For example, if you have a list my_list = [1, 2, 3], you access the first element using my_list[0].\n",
        "- Dictionary: You access elements using a key. For example, if you have a dictionary my_dict = {'name': 'John', 'age': 30}, you access the value associated with 'name' using my_dict['name'].\n",
        "\n",
        "\n",
        "\n",
        "\n",
        "\n"
      ],
      "metadata": {
        "id": "7oBhs06vrBBH"
      }
    },
    {
      "cell_type": "code",
      "source": [
        "#Q1 Write a code to create a string with your name and print it.\n",
        "name=\"ashish\"\n",
        "\n",
        "print(name)"
      ],
      "metadata": {
        "colab": {
          "base_uri": "https://localhost:8080/"
        },
        "id": "4OeFJrGL0ji_",
        "outputId": "a1bdfae7-e348-4ba3-f4ec-4aa8d8625ebc"
      },
      "execution_count": null,
      "outputs": [
        {
          "output_type": "stream",
          "name": "stdout",
          "text": [
            "ashish\n"
          ]
        }
      ]
    },
    {
      "cell_type": "code",
      "source": [
        "#Q2  Write a code to find the length of the string \"Hello World\"\n",
        "string=\"hello world\"\n",
        "len(string)"
      ],
      "metadata": {
        "colab": {
          "base_uri": "https://localhost:8080/"
        },
        "id": "Yb4J_s2B1AQG",
        "outputId": "69826931-5d1b-4dea-867b-d0911746590a"
      },
      "execution_count": null,
      "outputs": [
        {
          "output_type": "execute_result",
          "data": {
            "text/plain": [
              "11"
            ]
          },
          "metadata": {},
          "execution_count": 3
        }
      ]
    },
    {
      "cell_type": "code",
      "source": [
        "#Q3  Write a code to slice the first 3 characters from the string \"Python Programming\"\n",
        "string=\"python programming\"\n",
        "sliced_string = string[:3]\n",
        "print(sliced_string)"
      ],
      "metadata": {
        "colab": {
          "base_uri": "https://localhost:8080/"
        },
        "id": "dO4ET6nw147i",
        "outputId": "6776c097-b061-4975-b23d-ad36f00cf582"
      },
      "execution_count": null,
      "outputs": [
        {
          "output_type": "stream",
          "name": "stdout",
          "text": [
            "pyt\n"
          ]
        }
      ]
    },
    {
      "cell_type": "code",
      "source": [
        "#Q4Write a code to convert the string \"hello\" to uppercase\n",
        "\n",
        "string=\"hello\"\n",
        "string.upper()"
      ],
      "metadata": {
        "colab": {
          "base_uri": "https://localhost:8080/",
          "height": 35
        },
        "id": "EXt1V7Ip3tP-",
        "outputId": "ffed6c4c-7c8a-4533-9b30-ace0a5608385"
      },
      "execution_count": null,
      "outputs": [
        {
          "output_type": "execute_result",
          "data": {
            "text/plain": [
              "'HELLO'"
            ],
            "application/vnd.google.colaboratory.intrinsic+json": {
              "type": "string"
            }
          },
          "metadata": {},
          "execution_count": 9
        }
      ]
    },
    {
      "cell_type": "code",
      "source": [
        "# Q5 P Write a code to replace the word \"apple\" with \"orange\" in the string \"I like apple\"P\n",
        "string=\"i like apple\"\n",
        "string=string.replace(\"apple\",\"orange\")\n",
        "print(string)"
      ],
      "metadata": {
        "colab": {
          "base_uri": "https://localhost:8080/"
        },
        "id": "2LNHk1Gu0Cx_",
        "outputId": "9521c023-5788-42b5-d304-1af5c4b8e408"
      },
      "execution_count": null,
      "outputs": [
        {
          "output_type": "stream",
          "name": "stdout",
          "text": [
            "i like orange\n"
          ]
        }
      ]
    },
    {
      "cell_type": "code",
      "source": [
        "# Q6 P Write a code to create a list with numbers 1 to 5 and print it.\n",
        "list=[1,2,3,4,5]\n",
        "print(list)"
      ],
      "metadata": {
        "colab": {
          "base_uri": "https://localhost:8080/"
        },
        "id": "RQaKYWdA0ZIX",
        "outputId": "ad1a3bbd-0224-4f0e-a16a-559e5e3b6891"
      },
      "execution_count": null,
      "outputs": [
        {
          "output_type": "stream",
          "name": "stdout",
          "text": [
            "[1, 2, 3, 4, 5]\n"
          ]
        }
      ]
    },
    {
      "cell_type": "code",
      "source": [
        "# Q7 P Write a code to append the number 10 to the list [1, 2, 3, 4]\n",
        "my_list=[1,2,3,4]\n",
        "my_list.append(10)\n",
        "print(my_list)"
      ],
      "metadata": {
        "colab": {
          "base_uri": "https://localhost:8080/"
        },
        "id": "qVDiuwkS1QgH",
        "outputId": "98f2ef97-9752-41f7-c595-fed6c42db5dc"
      },
      "execution_count": null,
      "outputs": [
        {
          "output_type": "stream",
          "name": "stdout",
          "text": [
            "[1, 2, 3, 4, 10]\n"
          ]
        }
      ]
    },
    {
      "cell_type": "code",
      "source": [
        "# Q8 P Write a code to remove the number 3 from the list [1, 2, 3, 4, 5]\n",
        "my_list=[1,2,3,4,5]\n",
        "my_list.remove(3)\n",
        "print(my_list)"
      ],
      "metadata": {
        "colab": {
          "base_uri": "https://localhost:8080/"
        },
        "id": "Q58-V6irPXt_",
        "outputId": "f1f4dc26-94f1-4d0d-8b3f-78324fd13974"
      },
      "execution_count": null,
      "outputs": [
        {
          "output_type": "stream",
          "name": "stdout",
          "text": [
            "[1, 2, 4, 5]\n"
          ]
        }
      ]
    },
    {
      "cell_type": "code",
      "source": [
        "# Q 9 P Write a code to access the second element in the list ['a', 'b', 'c', 'd']\n",
        "my_list=['a','b','c','d']\n",
        "my_list.insert(1,\"e\")\n",
        "print(my_list)"
      ],
      "metadata": {
        "colab": {
          "base_uri": "https://localhost:8080/"
        },
        "id": "jVgodA_KPm1u",
        "outputId": "1a6ecfa5-3af6-41b8-af17-07f9371c21d5"
      },
      "execution_count": null,
      "outputs": [
        {
          "output_type": "stream",
          "name": "stdout",
          "text": [
            "['a', 'e', 'b', 'c', 'd']\n"
          ]
        }
      ]
    },
    {
      "cell_type": "code",
      "source": [
        "# Q 10  Write a code to reverse the list [10, 20, 30, 40, 50].\n",
        "my_list=[10,20,30,40,50]\n",
        "my_list.reverse()\n",
        "print(my_list)"
      ],
      "metadata": {
        "colab": {
          "base_uri": "https://localhost:8080/"
        },
        "id": "GKnZKkO1Vusw",
        "outputId": "f2166922-2ed2-4da1-f419-6d5d2b816019"
      },
      "execution_count": null,
      "outputs": [
        {
          "output_type": "stream",
          "name": "stdout",
          "text": [
            "[50, 40, 30, 20, 10]\n"
          ]
        }
      ]
    },
    {
      "cell_type": "code",
      "source": [
        "# Q 11  Write a code to create a tuple with the elements 100, 200, 300 and print it\n",
        "my_tuple=(100,200,300)\n",
        "print(my_tuple)"
      ],
      "metadata": {
        "colab": {
          "base_uri": "https://localhost:8080/"
        },
        "id": "B5mgHotyV70o",
        "outputId": "7aa1654f-e8ed-4393-a296-9ed38f1b6bcd"
      },
      "execution_count": null,
      "outputs": [
        {
          "output_type": "stream",
          "name": "stdout",
          "text": [
            "(100, 200, 300)\n"
          ]
        }
      ]
    },
    {
      "cell_type": "code",
      "source": [
        "# Q 12 2. Write a code to access the second-to-last element of the tuple ('red', 'green', 'blue', 'yellow').\n",
        "my_tuple=('red','green','blue','yellow')\n",
        "second_to_last_element=my_tuple[-2]\n",
        "print(second_to_last_element)"
      ],
      "metadata": {
        "colab": {
          "base_uri": "https://localhost:8080/"
        },
        "id": "lI6jZfYaXefB",
        "outputId": "18b0e44f-0869-4a68-8c22-b2ba90932c94"
      },
      "execution_count": null,
      "outputs": [
        {
          "output_type": "stream",
          "name": "stdout",
          "text": [
            "blue\n"
          ]
        }
      ]
    },
    {
      "cell_type": "code",
      "source": [
        "# Q 13 . Write a code to find the minimum number in the tuple (10, 20, 5, 15).\n",
        "my_tuple=(10,20,5,15)\n",
        "minimum_number=min(my_tuple)\n",
        "print(minimum_number)"
      ],
      "metadata": {
        "colab": {
          "base_uri": "https://localhost:8080/"
        },
        "id": "SaTkgX_LX0Kh",
        "outputId": "ecbc3ffa-6e04-42b5-a8a8-1428c6bcd2ed"
      },
      "execution_count": null,
      "outputs": [
        {
          "output_type": "stream",
          "name": "stdout",
          "text": [
            "5\n"
          ]
        }
      ]
    },
    {
      "cell_type": "code",
      "source": [
        "# Q 14 Write a code to find the index of the element \"cat\" in the tuple ('dog', 'cat', 'rabbit').\n",
        "my_tuple=('dog','cat','rabbit')\n",
        "index_of_cat=my_tuple.index('cat')\n",
        "print(index_of_cat)"
      ],
      "metadata": {
        "colab": {
          "base_uri": "https://localhost:8080/"
        },
        "id": "LI_x0YoTYGI5",
        "outputId": "9ed230ec-f5a2-49ee-c720-980e52dc4240"
      },
      "execution_count": null,
      "outputs": [
        {
          "output_type": "stream",
          "name": "stdout",
          "text": [
            "1\n"
          ]
        }
      ]
    },
    {
      "cell_type": "code",
      "source": [
        "# Q15 Write a code to create a tuple containing three different fruits and check if \"kiwi\" is in it\n",
        "my_tuple=('apple','banana','kiwi')\n",
        "if 'kiwi' in my_tuple:\n",
        "    print(\"kiwi is in the tuple\")\n",
        "\n",
        "else:\n",
        "    print(\"kiwi is not in the tuple\")"
      ],
      "metadata": {
        "colab": {
          "base_uri": "https://localhost:8080/"
        },
        "id": "K2bL86x7fRqW",
        "outputId": "6ae00c4e-6e72-46bd-f2b5-7e40daaa7b68"
      },
      "execution_count": null,
      "outputs": [
        {
          "output_type": "stream",
          "name": "stdout",
          "text": [
            "kiwi is in the tuple\n"
          ]
        }
      ]
    },
    {
      "cell_type": "code",
      "source": [
        "# Q16 Write a code to create a set with the elements 'a', 'b', 'c' and print it.\n",
        "my_set={'a','b','c'}\n",
        "\n",
        "print(my_set)"
      ],
      "metadata": {
        "colab": {
          "base_uri": "https://localhost:8080/"
        },
        "id": "6yFDKhitgdVP",
        "outputId": "c6b31feb-aeeb-4301-d927-b0e2f27a7f49"
      },
      "execution_count": null,
      "outputs": [
        {
          "output_type": "stream",
          "name": "stdout",
          "text": [
            "{'c', 'b', 'a'}\n"
          ]
        }
      ]
    },
    {
      "cell_type": "code",
      "source": [
        "# Q16 Write a code to create a set with the elements 'a', 'b', 'c' and print it.\n",
        "my_set={'a','b','c'}\n",
        "print(my_set)"
      ],
      "metadata": {
        "colab": {
          "base_uri": "https://localhost:8080/"
        },
        "outputId": "d0cf55d9-fa1f-4e95-96ae-6e43f0794195",
        "id": "cRFwTI1WhxD8"
      },
      "execution_count": null,
      "outputs": [
        {
          "output_type": "stream",
          "name": "stdout",
          "text": [
            "{'c', 'b', 'a'}\n"
          ]
        }
      ]
    },
    {
      "cell_type": "code",
      "source": [
        "# Q17  Write a code to clear all elements from the set {1, 2, 3, 4, 5}.\n",
        "my_set={1,2,3,4,5}\n",
        "my_set.clear()\n",
        "print(my_set)"
      ],
      "metadata": {
        "colab": {
          "base_uri": "https://localhost:8080/"
        },
        "id": "ClC0G3xQ9c9P",
        "outputId": "584ea18c-9dff-4f2c-e058-3816f55425eb"
      },
      "execution_count": null,
      "outputs": [
        {
          "output_type": "stream",
          "name": "stdout",
          "text": [
            "set()\n"
          ]
        }
      ]
    },
    {
      "cell_type": "code",
      "source": [
        "# Q18  Write a code to remove the element 4 from the set {1, 2, 3, 4}.\n",
        "my_set={1,2,3,4}\n",
        "my_set.remove(4)\n",
        "print(my_set)\n",
        "#"
      ],
      "metadata": {
        "colab": {
          "base_uri": "https://localhost:8080/"
        },
        "id": "SeomGSEZ9ybe",
        "outputId": "82ddb8a4-810d-4c40-e818-c663642e2efa"
      },
      "execution_count": null,
      "outputs": [
        {
          "output_type": "stream",
          "name": "stdout",
          "text": [
            "{1, 2, 3}\n"
          ]
        }
      ]
    },
    {
      "cell_type": "code",
      "source": [
        "# Q19 . Write a code to find the union of two sets {1, 2, 3} and {3, 4, 5}.\n",
        "set1={1,2,3}\n",
        "set2={3,4,5}\n",
        "union_set=set1.union(set2)\n",
        "print(union_set)"
      ],
      "metadata": {
        "colab": {
          "base_uri": "https://localhost:8080/"
        },
        "id": "DqtKbsif-DA_",
        "outputId": "e23c4671-a133-4ad0-991c-56d25022846f"
      },
      "execution_count": null,
      "outputs": [
        {
          "output_type": "stream",
          "name": "stdout",
          "text": [
            "{1, 2, 3, 4, 5}\n"
          ]
        }
      ]
    },
    {
      "cell_type": "code",
      "source": [
        "# Q20 Write a code to find the intersection of two sets {1, 2, 3} and {2, 3, 4}.\n",
        "set1={1,2,3}\n",
        "set2={2,3,4}\n",
        "intersection_set=set1.intersection(set2)\n",
        "print(intersection_set)"
      ],
      "metadata": {
        "colab": {
          "base_uri": "https://localhost:8080/"
        },
        "id": "tybqajB2-Y-e",
        "outputId": "ebdda269-9a3c-4b14-8a75-27559ea39ce5"
      },
      "execution_count": null,
      "outputs": [
        {
          "output_type": "stream",
          "name": "stdout",
          "text": [
            "{2, 3}\n"
          ]
        }
      ]
    },
    {
      "cell_type": "code",
      "source": [
        "# Q 21 1. Write a code to create a dictionary with the keys \"name\", \"age\", and \"city\", and print it\n",
        "my_dic={\"name\": \"ashish\",\"age\": 30,\"city\": \"mumbai\"}\n",
        "print(my_dic)"
      ],
      "metadata": {
        "colab": {
          "base_uri": "https://localhost:8080/"
        },
        "id": "gfM62GV5-mxm",
        "outputId": "d310cca7-7881-4557-a57b-5822915e1b59"
      },
      "execution_count": null,
      "outputs": [
        {
          "output_type": "stream",
          "name": "stdout",
          "text": [
            "{'name': 'ashish', 'age': 30, 'city': 'mumbai'}\n"
          ]
        }
      ]
    },
    {
      "cell_type": "code",
      "source": [
        "# Q 22 . Write a code to add a new key-value pair \"country\": \"USA\" to the dictionary {'name': 'John', 'age': 25}.\n",
        "my_dic={'name': 'John', 'age': 25}\n",
        "my_dic[\"country\"]=\"USA\"\n",
        "print(my_dic)"
      ],
      "metadata": {
        "colab": {
          "base_uri": "https://localhost:8080/"
        },
        "id": "QGZPqchoGEYg",
        "outputId": "92933b42-ee5e-4f27-daef-f0b4a579f105"
      },
      "execution_count": null,
      "outputs": [
        {
          "output_type": "stream",
          "name": "stdout",
          "text": [
            "{'name': 'John', 'age': 25, 'country': 'USA'}\n"
          ]
        }
      ]
    },
    {
      "cell_type": "code",
      "source": [
        "# Q 23 . Write a code to access the value associated with the key \"name\" in the dictionary {'name': 'Alice', 'age': 30}.\n",
        "my_dic={'name': 'Alice', 'age': 30}\n",
        "print(my_dic[\"name\"])"
      ],
      "metadata": {
        "colab": {
          "base_uri": "https://localhost:8080/"
        },
        "id": "n7rtxXOYGeqH",
        "outputId": "e951c125-185e-4012-b06e-cd742a07e443"
      },
      "execution_count": null,
      "outputs": [
        {
          "output_type": "stream",
          "name": "stdout",
          "text": [
            "Alice\n"
          ]
        }
      ]
    },
    {
      "cell_type": "code",
      "source": [
        "# Q24  Write a code to remove the key \"age\" from the dictionary {'name': 'Bob', 'age': 22, 'city': 'New York'}.\n",
        "my_dic={'name': 'Bob', 'age': 22, 'city': 'New York'}\n",
        "del my_dic[\"age\"]\n",
        "print(my_dic)"
      ],
      "metadata": {
        "colab": {
          "base_uri": "https://localhost:8080/"
        },
        "id": "f37UVYSZG6zX",
        "outputId": "410f9c22-903d-4ea7-cdb5-0e0100e6737f"
      },
      "execution_count": null,
      "outputs": [
        {
          "output_type": "stream",
          "name": "stdout",
          "text": [
            "{'name': 'Bob', 'city': 'New York'}\n"
          ]
        }
      ]
    },
    {
      "cell_type": "code",
      "source": [
        "# Q25 . Write a code to check if the key \"city\" exists in the dictionary {'name': 'Alice', 'city': 'Paris'}\n",
        "\n",
        "\n",
        "\n",
        "my_dic={'name': 'Alice', 'city': 'Paris'}\n",
        "if \"city\" in my_dic:\n",
        "    print(\"city is in the dictionary\")\n",
        "else:\n",
        "    print(\"city is not in the dictionary\")"
      ],
      "metadata": {
        "colab": {
          "base_uri": "https://localhost:8080/"
        },
        "id": "O2wsiJblOLkR",
        "outputId": "6828300b-5d85-4263-b3d7-fe006561291e"
      },
      "execution_count": null,
      "outputs": [
        {
          "output_type": "stream",
          "name": "stdout",
          "text": [
            "city is in the dictionary\n"
          ]
        }
      ]
    },
    {
      "cell_type": "code",
      "source": [
        "# Q 26  Write a code to create a list, a tuple, and a dictionary, and print them all\n",
        "my_list=[1,2,3,4]\n",
        "my_tuple=(1,2,3,4)\n",
        "my_dic={\"name\": \"ashish\",\"age\": 30,\"city\": \"mumbai\"}\n",
        "print(my_list)\n",
        "print(my_tuple)\n",
        "print(my_dic)"
      ],
      "metadata": {
        "colab": {
          "base_uri": "https://localhost:8080/"
        },
        "id": "_28Aoit2Og5R",
        "outputId": "e4292c6e-b96f-40f0-e06f-e1b399f743e0"
      },
      "execution_count": null,
      "outputs": [
        {
          "output_type": "stream",
          "name": "stdout",
          "text": [
            "[1, 2, 3, 4]\n",
            "(1, 2, 3, 4)\n",
            "{'name': 'ashish', 'age': 30, 'city': 'mumbai'}\n"
          ]
        }
      ]
    },
    {
      "cell_type": "code",
      "source": [
        "# Q 27 27. Write a code to create a list of 5 random numbers between 1 and 100, sort it in ascending order, and print the\n",
        "# result.\n",
        "import random\n",
        "# genrate a 5 random number\n",
        "my_list = random.sample(range(1, 101), 5)\n",
        "my_list.sort()\n",
        "print(my_list)"
      ],
      "metadata": {
        "colab": {
          "base_uri": "https://localhost:8080/"
        },
        "id": "O1nvbFkPIeh4",
        "outputId": "25188b79-98f1-4b36-dbbf-5bcbc988dcfc"
      },
      "execution_count": null,
      "outputs": [
        {
          "output_type": "stream",
          "name": "stdout",
          "text": [
            "[11, 31, 83, 91, 93]\n"
          ]
        }
      ]
    },
    {
      "cell_type": "code",
      "source": [
        "# Q28 Write a code to create a list with strings and print the element at the third index\n",
        "# create a my list\n",
        "my_list=[\"apple\",\"banana\",\"cherry\",\"date\",\"elderberry\"]\n",
        "print(my_list[2])"
      ],
      "metadata": {
        "colab": {
          "base_uri": "https://localhost:8080/"
        },
        "id": "EQF5F4suPTwx",
        "outputId": "6ee2a4c3-effd-4f96-f28f-c10767954f44"
      },
      "execution_count": null,
      "outputs": [
        {
          "output_type": "stream",
          "name": "stdout",
          "text": [
            "cherry\n"
          ]
        }
      ]
    },
    {
      "cell_type": "code",
      "source": [
        "# Q29 Write a code to combine two dictionaries into one and print the result\n",
        "my_dic1={\"name\":\"ashish\",\"age\":30}\n",
        "my_dic2={\"city\":\"mumbai\",\"country\":\"india\"}\n",
        "my_dic1.update(my_dic2)\n",
        "print(my_dic1)\n"
      ],
      "metadata": {
        "colab": {
          "base_uri": "https://localhost:8080/"
        },
        "id": "d9GEkUJmQSeJ",
        "outputId": "ad466502-d047-49a3-c502-22d5e1d2dfb4"
      },
      "execution_count": null,
      "outputs": [
        {
          "output_type": "stream",
          "name": "stdout",
          "text": [
            "{'name': 'ashish', 'age': 30, 'city': 'mumbai', 'country': 'india'}\n"
          ]
        }
      ]
    },
    {
      "cell_type": "code",
      "source": [
        "# Q30 Write a code to convert a list of strings into a set.\n",
        "my_list=[\"apple\",\"banana\",\"cherry\",\"date\",\"elderberry\"]\n",
        "my_set=set(my_list)\n",
        "print(my_set)"
      ],
      "metadata": {
        "colab": {
          "base_uri": "https://localhost:8080/"
        },
        "id": "PSkzCkMmQ-Np",
        "outputId": "f54a6158-d3a3-48e6-cab0-302aa8bbb6d0"
      },
      "execution_count": null,
      "outputs": [
        {
          "output_type": "stream",
          "name": "stdout",
          "text": [
            "{'apple', 'date', 'banana', 'elderberry', 'cherry'}\n"
          ]
        }
      ]
    }
  ]
}
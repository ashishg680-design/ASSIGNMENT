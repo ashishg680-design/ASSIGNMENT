{
  "cells": [
    {
      "cell_type": "code",
      "execution_count": null,
      "metadata": {
        "id": "NXkPxky1_YGw"
      },
      "outputs": [],
      "source": []
    },
    {
      "cell_type": "markdown",
      "metadata": {
        "id": "F1vckAObABEw"
      },
      "source": [
        "Q 1 What is Python, and why is it popular\n",
        "\n",
        "Ans-Python is a high-level, interpreted programming language known for its simplicity, readability, and versatility\n",
        "it is popular beacause of\n",
        "Python is simple & easy\n",
        "Free & Open Source\n",
        "High Level Language\n",
        "\n",
        "Q2  What is an interpreter in Python?\n",
        "Ans- In Python, an interpreter is a program that reads and executes Python code line-by-line.\n",
        "\n",
        "Q3 What are pre-defined keywords in Python?\n",
        "Ans- In Python, pre-defined keywords are reserved words that have special meanings and cannot be used as variable names or identifiers. Here's a list of some of the keywords in Python\n",
        "example-true,fals, or ,if etc...\n",
        "\n",
        "Q4  Can keywords be used as variable names?\n",
        "Ans-No keywords can't be used as variable names in most programming languages. Keywords are reserved words that have special meanings to the compiler or interpreter, like if, else, for, etc.\n",
        "\n",
        "Q5 What is mutability in Python?\n",
        "Ans-mutability ca be modified after creation\n",
        "example.list, sets\n",
        "\n",
        "Q6  Why are lists mutable, but tuples are immutable?\n",
        "\n",
        "Ans- lists are mutable because they're designed for dynamic modification - you can add, remove, or change elements. Tuples are immutable because they're meant for fixed, unchangeable collections.\n",
        "\n",
        "Q7  What is the difference between “==” and “is” operators in Python?\n",
        "\n",
        "Ans-== and is are two different operators that serve distinct purposes.\n",
        "\n",
        "- == checks for equality in value. It compares the values of two objects to see if they're equal.\n",
        "- is checks for identity. It checks if both variables point to the same object in memory\n",
        "\n",
        "Q8 What are logical operators in Python?\n",
        "Ans-in python logical oprators is ,and,or,not.\n",
        "\n",
        "Q9 What is type casting in Python?\n",
        "\n",
        "Ans-In Python, type casting  is the process of converting a variable from one data type to another. Python supports both implicit and explicit type casting.\n",
        "\n",
        "Q10  What is the difference between implicit and explicit type casting?\n",
        "\n",
        "Ans-Implicit type casting*: The compiler/interpreter automatically converts one data type to another when needed. whereas Explicit type casting*: You manually convert a data type using functions like int(), float(), str(), etc.\n",
        "\n",
        "Q 11 What is the purpose of conditional statements in Python?\n",
        "Ans-The purpose of conditional statements in Python is to control the flow of a program based on certain conditions or decisions. They allow you to execute specific blocks of code if a condition is true or false. Common conditional statements in Python include if, elif, and else.\n",
        "\n",
        "Q 12  How does the elif statement work?\n",
        "\n",
        "Ans-elif statment work wnen if condition is false the program checks elif condition.\n",
        "\n",
        "Q 13  What is the difference between for and while loops?\n",
        "\n",
        "Ans-for loop Used when you know how many times you want to iterate. It iterates over a sequence (like a list, tuple, or range) or other iterable objects.\n",
        "- while loop Used when you want to continue iterating as long as a certain condition is true. It doesn't necessarily need to know the number of iterations beforehand.\n",
        "\n",
        "Q14 Describe a scenario where a while loop is more suitable than a for loop.?\n",
        "\n",
        "Ans-A while loop is more suitable than a for loop in a scenario where the number of iterations is not known beforehand and the loop needs to continue based on a condition that is checked at the start of each iteration.\n"
      ]
    },
    {
      "cell_type": "markdown",
      "metadata": {
        "id": "diMJhs6skGsP"
      },
      "source": []
    },
    {
      "cell_type": "code",
      "execution_count": null,
      "metadata": {
        "colab": {
          "base_uri": "https://localhost:8080/"
        },
        "id": "zd1eJnOWCBj2",
        "outputId": "c5053b6c-078e-4180-fad1-c9f37d670012"
      },
      "outputs": [
        {
          "name": "stdout",
          "output_type": "stream",
          "text": [
            "Hello,World\n"
          ]
        }
      ],
      "source": [
        "# Write a Python program to print \"Hello, World!\"\n",
        "print(\"Hello,World\")"
      ]
    },
    {
      "cell_type": "code",
      "execution_count": null,
      "metadata": {
        "colab": {
          "base_uri": "https://localhost:8080/"
        },
        "id": "EiwU9WCCWkPP",
        "outputId": "55127113-a794-4a5a-82b2-e2f775834fcc"
      },
      "outputs": [
        {
          "name": "stdout",
          "output_type": "stream",
          "text": [
            "Ashish 30\n"
          ]
        }
      ],
      "source": [
        "# Write a Python program that displays your name and age?\n",
        "name=\"Ashish\"\n",
        "age=30\n",
        "print(name+\" \"+str(age))"
      ]
    },
    {
      "cell_type": "code",
      "execution_count": null,
      "metadata": {
        "colab": {
          "base_uri": "https://localhost:8080/"
        },
        "id": "we3Sm_G4XF8H",
        "outputId": "11c4ee0a-5893-4c49-b895-ce588d9f2fb7"
      },
      "outputs": [
        {
          "name": "stdout",
          "output_type": "stream",
          "text": [
            "['False', 'None', 'True', 'and', 'as', 'assert', 'async', 'await', 'break', 'class', 'continue', 'def', 'del', 'elif', 'else', 'except', 'finally', 'for', 'from', 'global', 'if', 'import', 'in', 'is', 'lambda', 'nonlocal', 'not', 'or', 'pass', 'raise', 'return', 'try', 'while', 'with', 'yield']\n"
          ]
        }
      ],
      "source": [
        "# Write code to print all the pre-defined keywords in Python using the keyword library\n",
        "import keyword\n",
        "keyword=(keyword.kwlist)\n",
        "print(keyword)"
      ]
    },
    {
      "cell_type": "code",
      "execution_count": null,
      "metadata": {
        "colab": {
          "base_uri": "https://localhost:8080/"
        },
        "id": "wQmZAlfTfNmd",
        "outputId": "2fece40b-d665-486b-8fcc-f8e61674e353"
      },
      "outputs": [
        {
          "name": "stdout",
          "output_type": "stream",
          "text": [
            "Enter a word: or\n",
            "'or' is a Python keyword.\n"
          ]
        }
      ],
      "source": [
        "#Write a program that checks if a given word is a Python keyword\n",
        "import keyword\n",
        "\n",
        "# Take input from user\n",
        "word = input(\"Enter a word: \")\n",
        "\n",
        "# Check if it is a keyword\n",
        "if keyword.iskeyword(word):\n",
        "    print(f\"'{word}' is a Python keyword.\")\n",
        "else:\n",
        "    print(f\"'{word}' is NOT a Python keyword.\")"
      ]
    },
    {
      "cell_type": "code",
      "execution_count": null,
      "metadata": {
        "colab": {
          "base_uri": "https://localhost:8080/",
          "height": 272
        },
        "id": "WeSepI2Wft-t",
        "outputId": "40ed1062-dcfc-48d8-91f0-6fcfe27936c1"
      },
      "outputs": [
        {
          "name": "stdout",
          "output_type": "stream",
          "text": [
            "original list: [5, 10, 15, 20]\n",
            "modify list: [5, 10, 100, 20]\n",
            "origenal tuple: (20, 30, 50, 70)\n"
          ]
        },
        {
          "ename": "TypeError",
          "evalue": "'tuple' object does not support item assignment",
          "output_type": "error",
          "traceback": [
            "\u001b[0;31m---------------------------------------------------------------------------\u001b[0m",
            "\u001b[0;31mTypeError\u001b[0m                                 Traceback (most recent call last)",
            "\u001b[0;32m/tmp/ipython-input-2314820372.py\u001b[0m in \u001b[0;36m<cell line: 0>\u001b[0;34m()\u001b[0m\n\u001b[1;32m     15\u001b[0m \u001b[0;34m\u001b[0m\u001b[0m\n\u001b[1;32m     16\u001b[0m \u001b[0;31m# try to modify an element a tuple\u001b[0m\u001b[0;34m\u001b[0m\u001b[0;34m\u001b[0m\u001b[0m\n\u001b[0;32m---> 17\u001b[0;31m \u001b[0mmy_tuple\u001b[0m\u001b[0;34m[\u001b[0m\u001b[0;36m1\u001b[0m\u001b[0;34m]\u001b[0m\u001b[0;34m=\u001b[0m\u001b[0;36m102\u001b[0m \u001b[0;31m# not allowed\u001b[0m\u001b[0;34m\u001b[0m\u001b[0;34m\u001b[0m\u001b[0m\n\u001b[0m\u001b[1;32m     18\u001b[0m \u001b[0;34m\u001b[0m\u001b[0m\n\u001b[1;32m     19\u001b[0m \u001b[0mprint\u001b[0m\u001b[0;34m(\u001b[0m\u001b[0mmy_tuple\u001b[0m\u001b[0;34m)\u001b[0m\u001b[0;34m\u001b[0m\u001b[0;34m\u001b[0m\u001b[0m\n",
            "\u001b[0;31mTypeError\u001b[0m: 'tuple' object does not support item assignment"
          ]
        }
      ],
      "source": [
        "# Create a list and tuple in Python, and demonstrate how attempting to change an element works differentlyfor each\n",
        "\n",
        "#create a list\n",
        "my_list=[5 ,10, 15, 20]\n",
        "print(\"original list:\",my_list)\n",
        "\n",
        "#modify an element a list\n",
        "my_list[2]=100\n",
        "print(\"modify list:\",my_list)\n",
        "\n",
        "#create a tuple\n",
        "\n",
        "my_tuple=(20, 30, 50, 70)\n",
        "print(\"origenal tuple:\",my_tuple)\n",
        "\n",
        "# try to modify an element a tuple\n",
        "my_tuple[1]=102 # not allowed\n",
        "\n",
        "print(my_tuple)\n",
        "\n",
        "\n",
        "\n",
        "\n"
      ]
    },
    {
      "cell_type": "code",
      "execution_count": null,
      "metadata": {
        "colab": {
          "base_uri": "https://localhost:8080/"
        },
        "id": "ECemgzhqqzHY",
        "outputId": "a71f3d73-02cc-4837-d663-85b2eae1d4c9"
      },
      "outputs": [
        {
          "name": "stdout",
          "output_type": "stream",
          "text": [
            "Before: 10 [1, 2, 3]\n",
            "After: 10 [1, 2, 3, 4]\n"
          ]
        }
      ],
      "source": [
        "#Write a function to demonstrate the behavior of mutable and immutable arguments.\n",
        "def change_values(a, b_list):\n",
        "    a = a + 1          # int (immutable) → does not change outside\n",
        "    b_list.append(4)   # list (mutable) → changes outside\n",
        "\n",
        "# Immutable\n",
        "x = 10\n",
        "# Mutable\n",
        "y = [1, 2, 3]\n",
        "\n",
        "print(\"Before:\", x, y)\n",
        "\n",
        "change_values(x, y)\n",
        "\n",
        "print(\"After:\", x, y)"
      ]
    },
    {
      "cell_type": "code",
      "execution_count": null,
      "metadata": {
        "colab": {
          "base_uri": "https://localhost:8080/"
        },
        "id": "PCDmQv2fORrZ",
        "outputId": "331be8e8-a2a6-4480-a95a-fac6d4df1854"
      },
      "outputs": [
        {
          "name": "stdout",
          "output_type": "stream",
          "text": [
            "enter first number:25\n",
            "enter second number:4\n",
            "addi: 29.0\n",
            "multi: 100.0\n",
            "div: 6.25\n"
          ]
        }
      ],
      "source": [
        "#7. Write a program that performs basic arithmetic operations on two user-input numbers.\n",
        "a=float(input(\"enter first number:\"))\n",
        "b=float(input(\"enter second number:\"))\n",
        "print(\"addi:\",a+b)\n",
        "print(\"multi:\",a*b)\n",
        "\n",
        "if b !=0:\n",
        "   print(\"div:\",a/b)\n",
        "\n",
        "else:\n",
        "    print(\"error:division by 0 not allowed\")"
      ]
    },
    {
      "cell_type": "code",
      "execution_count": null,
      "metadata": {
        "colab": {
          "base_uri": "https://localhost:8080/"
        },
        "id": "M_rkNPEAU6DT",
        "outputId": "9c555f9c-7271-459f-a1b2-7f96a2b26af9"
      },
      "outputs": [
        {
          "name": "stdout",
          "output_type": "stream",
          "text": [
            "Enter first number: 15\n",
            "Enter second number: 10\n",
            "\n",
            "Demonstrating logical operators:\n",
            "Both numbers are positive (AND)\n",
            "At least one number is positive (OR)\n",
            "First number is NOT negative (NOT)\n"
          ]
        }
      ],
      "source": [
        "#8. Write a program to demonstrate the use of logical operators.\n",
        "a = int(input(\"Enter first number: \"))\n",
        "b = int(input(\"Enter second number: \"))\n",
        "\n",
        "print(\"\\nDemonstrating logical operators:\")\n",
        "\n",
        "# AND operator\n",
        "if a > 0 and b > 0:\n",
        "    print(\"Both numbers are positive (AND)\")\n",
        "\n",
        "# OR operator\n",
        "if a > 0 or b > 0:\n",
        "    print(\"At least one number is positive (OR)\")\n",
        "\n",
        "# NOT operator\n",
        "if not (a < 0):\n",
        "    print(\"First number is NOT negative (NOT)\")\n"
      ]
    },
    {
      "cell_type": "code",
      "execution_count": null,
      "metadata": {
        "colab": {
          "base_uri": "https://localhost:8080/"
        },
        "id": "SxAfL19QsLTv",
        "outputId": "05013775-60ea-4701-8035-7a0e56692676"
      },
      "outputs": [
        {
          "name": "stdout",
          "output_type": "stream",
          "text": [
            "enterimput:1\n",
            "int_value: 1\n",
            "float_values: 1.0\n",
            "bool_value: True\n"
          ]
        }
      ],
      "source": [
        "# Write a Python program to convert user input from string to integer, float, and boolean types.\n",
        "user_input=input(\"enterimput:\")\n",
        "\n",
        "#convert to integer\n",
        "int_value=int(user_input)\n",
        "print(\"int_value:\",int_value)\n",
        "\n",
        "#convert to float\n",
        "float_value=float(user_input)\n",
        "print(\"float_values:\",float_value)\n",
        "\n",
        "#convert to bool\n",
        "bool_value=bool(user_input)\n",
        "print(\"bool_value:\",bool_value)"
      ]
    },
    {
      "cell_type": "code",
      "execution_count": null,
      "metadata": {
        "colab": {
          "base_uri": "https://localhost:8080/"
        },
        "id": "4jRx2Gm_XN2q",
        "outputId": "60b59540-32f5-4fc0-8594-586fb6ac2003"
      },
      "outputs": [
        {
          "name": "stdout",
          "output_type": "stream",
          "text": [
            "Original list: ['1', '2', '3', '4']\n",
            "As integers: [1, 2, 3, 4]\n",
            "As floats: [1.0, 2.0, 3.0, 4.0]\n"
          ]
        }
      ],
      "source": [
        "# 10. Write code to demonstrate type casting with list elements.\n",
        "# List of numbers as strings\n",
        "string_list = [\"1\", \"2\", \"3\", \"4\"]\n",
        "\n",
        "print(\"Original list:\", string_list)\n",
        "\n",
        "# Convert each element to integer\n",
        "int_list = [int(x) for x in string_list]\n",
        "print(\"As integers:\", int_list)\n",
        "\n",
        "# Convert each element to float\n",
        "float_list = [float(x) for x in string_list]\n",
        "print(\"As floats:\", float_list)"
      ]
    },
    {
      "cell_type": "markdown",
      "metadata": {
        "id": "uOjrCRpAvwLH"
      },
      "source": []
    },
    {
      "cell_type": "code",
      "execution_count": null,
      "metadata": {
        "colab": {
          "base_uri": "https://localhost:8080/"
        },
        "id": "u6rgCmCisK7P",
        "outputId": "433c0f45-8910-4116-c90d-4c89b7a080b9"
      },
      "outputs": [
        {
          "name": "stdout",
          "output_type": "stream",
          "text": [
            "enter a numkber1\n",
            "positive number\n"
          ]
        }
      ],
      "source": [
        "# 11. Write a program that checks if a number is positive, negative, or zero\n",
        "num=int(input(\"enter a numkber\"))\n",
        "\n",
        "if num > 0:\n",
        "    print(\"positive number\")\n",
        "elif num < 0:\n",
        "    print(\"negative number\")\n",
        "\n",
        "else:\n",
        "    print(\"zero\")"
      ]
    },
    {
      "cell_type": "code",
      "execution_count": null,
      "metadata": {
        "colab": {
          "base_uri": "https://localhost:8080/"
        },
        "id": "yHrbDyGs0tvF",
        "outputId": "f9e5ec0b-7224-4343-cfd1-3671f6636980"
      },
      "outputs": [
        {
          "name": "stdout",
          "output_type": "stream",
          "text": [
            "1\n",
            "2\n",
            "3\n",
            "4\n",
            "5\n",
            "6\n",
            "7\n",
            "8\n",
            "9\n",
            "10\n"
          ]
        }
      ],
      "source": [
        "#. Write a for loop to print numbers from 1 to 10.\n",
        "\n",
        "for i in range(1, 11):\n",
        "    print(i)"
      ]
    },
    {
      "cell_type": "markdown",
      "metadata": {
        "id": "sm1e97uL0skN"
      },
      "source": []
    },
    {
      "cell_type": "code",
      "execution_count": 1,
      "metadata": {
        "colab": {
          "base_uri": "https://localhost:8080/"
        },
        "id": "3eAvVx9u1wVV",
        "outputId": "b2af6ab6-5016-4a6a-9a31-311472383e68"
      },
      "outputs": [
        {
          "name": "stdout",
          "output_type": "stream",
          "text": [
            "Sum of even numbers between 1 and 50: 650\n"
          ]
        }
      ],
      "source": [
        "# 13. Write a Python program to find the sum of all even numbers between 1 and 50.\n",
        "\n",
        "# Initialize sum variable\n",
        "sum_of_evens = 0\n",
        "\n",
        "# Loop through numbers from 1 to 50\n",
        "for num in range(1, 51):\n",
        "    # Check if the number is even\n",
        "    if num % 2 == 0:\n",
        "        # Add even number to sum\n",
        "        sum_of_evens += num\n",
        "\n",
        "# Print the sum\n",
        "print(\"Sum of even numbers between 1 and 50:\", sum_of_evens)"
      ]
    },
    {
      "cell_type": "code",
      "execution_count": 2,
      "metadata": {
        "colab": {
          "base_uri": "https://localhost:8080/"
        },
        "id": "IIkss9AY5f8-",
        "outputId": "6f84be31-b48c-4d27-949b-446f6bfef2b0"
      },
      "outputs": [
        {
          "name": "stdout",
          "output_type": "stream",
          "text": [
            "Original String: ashish, gupta!\n",
            "Reversed String: !atpug ,hsihsa\n"
          ]
        }
      ],
      "source": [
        "# Write a program to reverse a string using a while loop.\n",
        "\n",
        "def reverse_string(input_str):\n",
        "    reversed_str = \"\"\n",
        "    index = len(input_str) - 1\n",
        "\n",
        "    while index >= 0:\n",
        "        reversed_str += input_str[index]\n",
        "        index -= 1\n",
        "\n",
        "    return reversed_str\n",
        "\n",
        "# Example usage\n",
        "input_str = \"ashish, gupta!\"\n",
        "print(\"Original String:\", input_str)\n",
        "print(\"Reversed String:\", reverse_string(input_str))"
      ]
    },
    {
      "cell_type": "code",
      "execution_count": 3,
      "metadata": {
        "colab": {
          "base_uri": "https://localhost:8080/"
        },
        "id": "elbPBNxZ6vkG",
        "outputId": "f6aa8eb1-7688-4600-b13a-7fa102c15ebe"
      },
      "outputs": [
        {
          "name": "stdout",
          "output_type": "stream",
          "text": [
            "Enter a string: ashish\n",
            "Reversed string: hsihsa\n"
          ]
        }
      ],
      "source": [
        "#  Write a Python program to calculate the factorial of a number provided by the user using a while loop.\n",
        "text = input(\"Enter a string: \")\n",
        "\n",
        "reversed_text = text[::-1]   # slice with step -1\n",
        "\n",
        "print(\"Reversed string:\", reversed_text)"
      ]
    }
  ],
  "metadata": {
    "colab": {
      "provenance": []
    },
    "kernelspec": {
      "display_name": "Python 3",
      "name": "python3"
    },
    "language_info": {
      "name": "python"
    }
  },
  "nbformat": 4,
  "nbformat_minor": 0
}

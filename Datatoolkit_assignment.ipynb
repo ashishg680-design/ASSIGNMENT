{
  "cells": [
    {
      "cell_type": "markdown",
      "metadata": {
        "id": "9ubf3ZtJArc3"
      },
      "source": [
        "Q1  ***What is the difference between multithreading and multiprocessing***?\n",
        "\n",
        "Ans-\n",
        "\n",
        "The Core Analogy: Kitchen vs. Cooks\n",
        "Think of a program as a restaurant kitchen.\n",
        "\n",
        "Multiprocessing is like having multiple, separate kitchens. Each kitchen has its own space, tools, ingredients, and staff. They work completely independently.\n",
        "\n",
        "Multithreading is like having one kitchen with multiple cooks. They share the same space, the same oven, the same sink, and the same pantry.\n",
        "\n",
        " **In details**\n",
        "\n",
        "1. **Multiprocessing**\n",
        "A process is an independent instance of a running program with its own allocated memory space, code, and data. The operating system protects processes from each other.\n",
        "\n",
        "Key Advantage: True Parallelism and Stability\n",
        "Because processes don't share memory, they can run on different CPU cores at the exact same time. This is perfect for CPU-intensive tasks where you need to split a heavy computational load across multiple cores. If one process crashes, the others are unaffected.\n",
        "\n",
        "Key Disadvantage: Overhead and Complexity\n",
        "Creating a process is resource-intensive. Communication between processes is also more complex and slower, as they cannot simply share variables and must use mechanisms provided by the operating system.\n",
        "\n",
        "**Example**:\n",
        "A video rendering application splitting a movie into 4 parts and using 4 different processes to render each part on 4 different CPU cores.\n",
        "\n",
        "\n",
        "\n",
        "2. **Multithreading**\n",
        "A thread is a lightweight \"sub-process\" that exists within a single process. All threads within a process share the same memory space and resources (e.g., open files, global variables).\n",
        "\n",
        "Key Advantage: Efficiency and Responsiveness\n",
        "Threads are cheap to create and destroy. They are ideal for I/O-bound tasks where the program often has to wait (e.g., for a network response, disk read, or user input). While one thread is waiting, others can do work, making the application feel responsive.\n",
        "\n",
        "Key Disadvantage: Complexity and Vulnerability\n",
        "The shared memory is a double-edged sword. It allows for easy communication but introduces the risk of race conditions, where two threads modify the same data at the same time, leading to corruption. This requires careful use of synchronization primitives like Locks and Semaphores, which can be tricky to implement correctly. A single unhandled exception in one thread can bring down the entire application.\n",
        "\n",
        "**Example**\n",
        "A web browser. One thread can handle downloading an image, another can render the page on the screen, and a third can listen for user clicks, all simultaneously to prevent the UI from freezing.\n",
        "\n",
        "\n"
      ]
    },
    {
      "cell_type": "markdown",
      "metadata": {
        "id": "TpzNAOD3F8y8"
      },
      "source": [
        "Q 2 **What are the challenges associated with memory management in Python?**\n"
      ]
    },
    {
      "cell_type": "markdown",
      "metadata": {
        "id": "w4eHlMYSGGac"
      },
      "source": [
        "Ans-\n",
        "\n",
        "\n",
        "\n",
        "1 **Gil limitation**\n",
        "The Challenge: The GIL is a mutex that allows only one thread to execute Python bytecode at a time. While it simplifies memory management by preventing simultaneous memory access conflicts, it becomes a major bottleneck for CPU-bound multithreaded applications\n",
        "\n",
        "\n",
        "\n",
        "The Impact: Even on a multi-core system, multiple threads cannot truly execute in parallel to process data and utilize memory efficiently. Your program might not use all available CPU cores, leading to suboptimal memory throughput for computational tasks.\n",
        "\n",
        "The Workaround: To achieve true parallelism and better utilize memory across cores, you must use the multiprocessing module, which creates separate Python processes (each with its own GIL and memory space). However, this introduces the overhead of Inter-Process Communication (IPC).\n",
        "\n",
        "2. ***Memory Fragmentation***\n",
        "The Challenge: As objects are created and destroyed, free memory can become divided into small, non-contiguous blocks. Even if there's a significant amount of total free memory, it may be unavailable for a new, large object because no single contiguous block is large enough.\n",
        "\n",
        "The Impact: This can lead to MemoryError exceptions even when the total available memory seems sufficient. It's more common in long-running processes that allocate and deallocate many objects of varying sizes.\n",
        "\n",
        "Python's Approach: Python's memory allocator has strategies to reduce fragmentation, but it cannot eliminate it entirely.\n",
        "\n",
        "3. **Overhead of Object Creation**\n",
        "The Challenge: In Python, everything is an object, and each object carries significant memory overhead.\n",
        "\n",
        "Reference Count: An integer to track the number of references to the object.\n",
        "\n",
        "Type Pointer: A pointer to the object's type.\n",
        "\n",
        "Value Storage: The actual data for the object.\n",
        "\n",
        "Other metadata (e.g., for garbage collection tracking).\n",
        "\n",
        "The Impact: A simple integer (int) in Python can take ~24-28 bytes, compared to 4 bytes in a language like C. This overhead is negligible for a few objects but becomes substantial when dealing with millions of objects (e.g., in data science with large lists or dictionaries).\n",
        "\n",
        "4. **Reference Cycles and the Garbage Collector** (GC)\n",
        "The Challenge: Python's primary memory management mechanism is reference counting. An object is immediately deleted when its reference count drops to zero. However, this fails with reference cycles, where a group of objects reference each other, even if they are no longer accessible from the rest of the program.\n",
        "\n",
        "python\n",
        "# Example of a reference cycle\n",
        "list_a = []\n",
        "list_b = [list_a]\n",
        "\n",
        "list_a.append(list_b)  # list_a refers to list_b, which refers to list_a\n",
        "\n",
        "The Impact: Objects involved in cycles cannot be freed by reference counting alone, leading to memory leaks.\n",
        "\n",
        "Python's Solution: The generational garbage collector (GC) exists to clean these cycles. However, this introduces its own challenges:\n",
        "\n",
        "Performance Overhead: The GC runs periodically and can cause unpredictable pauses, especially when collecting a large number of objects.\n",
        "\n",
        "Tunability: The GC's behavior can be tuned (e.g., disabling it, adjusting thresholds), but this adds complexity and risk.\n",
        "\n",
        "5. **Difficulty in Tracking Memory Leaks**\n",
        "The Challenge: Because Python is a high-level language, it's not always obvious why memory usage is growing. A \"memory leak\" in Python is often not a leak in the traditional C-sense, but rather an unintended lingering reference to an object, preventing it from being garbage collected.\n",
        "\n",
        "Common Causes:\n",
        "\n",
        "Unbounded caches that are never purged.\n",
        "\n",
        "Objects registered in global lists or modules that are never removed.\n",
        "\n",
        "Tracebacks in exceptions that can create reference cycles.\n",
        "\n",
        "C extensions that do not properly manage memory.\n",
        "\n",
        "The Impact: Debugging these \"logical\" memory leaks is difficult. It requires tools like gc module, tracemalloc, objgraph, or external memory profilers to find the root cause.\n",
        "\n",
        "6. **Interaction with C Extensions**\n",
        "The Challenge: Many high-performance Python libraries (like NumPy, Pandas, TensorFlow) are implemented in C. These extensions manage their own memory outside of Python's GC.\n",
        "\n",
        "The Impact: If a C extension has a memory leak or is not managed correctly, it can cause the entire Python process's memory usage to balloon. Python's own memory tools are often blind to this memory, making it very hard to debug.\n",
        "\n",
        "7. **Non-Blocking Nature of Freeing Memory**\n",
        "The Challenge: When an object's reference count hits zero, it is deleted immediately. For large objects or objects with complex __del__ methods (destructors), this deallocation can cause noticeable, unpredictable slowdowns in the main thread of your application.\n",
        "\n",
        "The Impact: This can lead to performance hiccups that are difficult to profile and isolate."
      ]
    },
    {
      "cell_type": "markdown",
      "metadata": {
        "id": "HL1YOfSoG3ZT"
      },
      "source": []
    },
    {
      "cell_type": "markdown",
      "metadata": {
        "id": "0Ur4FkoMVa3U"
      },
      "source": [
        "Q 3 **Write a Python program that logs an error message to a log file when a\n",
        "division by zero exception occurs**\n",
        "\n",
        "."
      ]
    },
    {
      "cell_type": "code",
      "execution_count": 1,
      "metadata": {
        "colab": {
          "base_uri": "https://localhost:8080/"
        },
        "id": "PhLh8u6TV5t8",
        "outputId": "98c6ea2e-5116-4dc5-f68a-d00b8d1b69fe"
      },
      "outputs": [
        {
          "name": "stderr",
          "output_type": "stream",
          "text": [
            "ERROR:root:Division by zero error occurred: division by zero\n"
          ]
        },
        {
          "name": "stdout",
          "output_type": "stream",
          "text": [
            "Error: Cannot divide by zero!\n"
          ]
        }
      ],
      "source": [
        "\n",
        "import logging\n",
        "\n",
        "# Configure logging\n",
        "logging.basicConfig(filename='error.log', level=logging.ERROR,\n",
        "                    format='%(asctime)s - %(levelname)s - %(message)s')\n",
        "\n",
        "def divide(a, b):\n",
        "    try:\n",
        "        result = a / b\n",
        "        print(f\"Result: {result}\")\n",
        "    except ZeroDivisionError as e:\n",
        "        logging.error(\"Division by zero error occurred: %s\", e)\n",
        "        print(\"Error: Cannot divide by zero!\")\n",
        "\n",
        "# Example usage\n",
        "divide(10, 0)\n",
        "\n",
        "\n"
      ]
    },
    {
      "cell_type": "markdown",
      "metadata": {
        "id": "oYQbdV8IWITs"
      },
      "source": [
        "Q4 ***Write a Python program that reads from one file and writes its content to\n",
        "another file***.\n",
        "\n"
      ]
    },
    {
      "cell_type": "code",
      "execution_count": 2,
      "metadata": {
        "colab": {
          "base_uri": "https://localhost:8080/"
        },
        "id": "k_Z-Bg6yWSdF",
        "outputId": "934f009e-dc71-443e-ace2-efb5d1241714"
      },
      "outputs": [
        {
          "name": "stdout",
          "output_type": "stream",
          "text": [
            "Error: The source file does not exist.\n"
          ]
        }
      ],
      "source": [
        "# Program to copy a file line by line\n",
        "\n",
        "source_file = \"input.txt\"\n",
        "destination_file = \"output.txt\"\n",
        "\n",
        "try:\n",
        "    with open(source_file, 'r') as src, open(destination_file, 'w') as dest:\n",
        "        for line in src:\n",
        "            dest.write(line)\n",
        "    print(\"File copied successfully!\")\n",
        "except FileNotFoundError:\n",
        "    print(\"Error: The source file does not exist.\")\n",
        "except Exception as e:\n",
        "    print(f\"An error occurred: {e}\")"
      ]
    },
    {
      "cell_type": "markdown",
      "metadata": {
        "id": "JvIqcwBPWhTT"
      },
      "source": [
        "\n",
        "\n",
        "Q5 ***Write a program that handles both IndexError and KeyError using a\n",
        "try-except block***."
      ]
    },
    {
      "cell_type": "code",
      "execution_count": 3,
      "metadata": {
        "colab": {
          "base_uri": "https://localhost:8080/"
        },
        "id": "k8JGrBpGWsXr",
        "outputId": "295a63cd-f4d5-4a57-8be5-07ad5a479b95"
      },
      "outputs": [
        {
          "name": "stdout",
          "output_type": "stream",
          "text": [
            "Number at index 0: 1\n",
            "Number at index 1: 2\n",
            "Number at index 2: 3\n",
            "Error: Tried to access an invalid list index.\n"
          ]
        }
      ],
      "source": [
        "# Program to handle IndexError and KeyError\n",
        "\n",
        "numbers = [1, 2, 3]\n",
        "person = {\"name\": \"John\", \"age\": 30}\n",
        "\n",
        "try:\n",
        "    # Attempt to access elements that might cause errors\n",
        "    for i in range(5):  # This will go beyond the list length\n",
        "        print(f\"Number at index {i}: {numbers[i]}\")\n",
        "\n",
        "    # Access a non-existent key in dictionary\n",
        "    print(f\"City: {person['city']}\")\n",
        "\n",
        "except IndexError:\n",
        "    print(\"Error: Tried to access an invalid list index.\")\n",
        "except KeyError:\n",
        "    print(\"Error: Tried to access a key that doesn't exist in the dictionary.\")"
      ]
    },
    {
      "cell_type": "markdown",
      "metadata": {
        "id": "w3WaZJXBeh5W"
      },
      "source": [
        "Q6 ***What are the differences between NumPy arrays and Python lists***?"
      ]
    },
    {
      "cell_type": "markdown",
      "metadata": {
        "id": "R2ShY36zejm-"
      },
      "source": [
        "\n",
        "**Python Lists**: Heterogeneous - can mix different data type.\n",
        "\n",
        "\n"
      ]
    },
    {
      "cell_type": "code",
      "execution_count": 4,
      "metadata": {
        "colab": {
          "base_uri": "https://localhost:8080/"
        },
        "id": "bxRBXoqEXOYb",
        "outputId": "fee4258f-befb-471c-c469-144538de0d22"
      },
      "outputs": [
        {
          "name": "stdout",
          "output_type": "stream",
          "text": [
            "[<class 'int'>, <class 'str'>, <class 'float'>, <class 'list'>]\n"
          ]
        }
      ],
      "source": [
        "# example\n",
        "my_list = [1, \"hello\", 3.14, [1, 2]]\n",
        "print([type(item) for item in my_list])\n",
        "# Output: [<class 'int'>, <class 'str'>, <class 'float'>, <class 'list'>]"
      ]
    },
    {
      "cell_type": "markdown",
      "metadata": {
        "id": "1p-l38b2Y1Wb"
      },
      "source": [
        "**Numpy array**-homogeneous it is store same type of data\n",
        "\n",
        "NumPy Array: You can perform the operation directly on the entire array. This is a vectorized operation, which is executed in optimized, pre-compiled C code under the hood.\n",
        "\n",
        "NumPy Array: True multi-dimensional indexing is built-in"
      ]
    },
    {
      "cell_type": "code",
      "execution_count": 5,
      "metadata": {
        "colab": {
          "base_uri": "https://localhost:8080/"
        },
        "id": "5gEEYJ2VZ4Gz",
        "outputId": "c5cdb7ea-8d8a-436b-c505-d5ea8ba19dea"
      },
      "outputs": [
        {
          "name": "stdout",
          "output_type": "stream",
          "text": [
            "['1' 'hello' '3.14']\n",
            "<U32\n",
            "int64\n"
          ]
        }
      ],
      "source": [
        "import numpy as np\n",
        "\n",
        "# Creating an array with mixed types forces them to a common type (string)\n",
        "my_array = np.array([1, \"hello\", 3.14])\n",
        "print(my_array)\n",
        "# Output: ['1' 'hello' '3.14']\n",
        "print(my_array.dtype)\n",
        "# Output: <U6  (Unicode string of max length 6)\n",
        "\n",
        "# A proper numerical array\n",
        "my_int_array = np.array([1, 2, 3])\n",
        "print(my_int_array.dtype)\n",
        "# Output: int64"
      ]
    },
    {
      "cell_type": "markdown",
      "metadata": {
        "id": "IoSiXJ-_aZAj"
      },
      "source": [
        "\n",
        "\n",
        "Q7 ***Explain the difference between apply() and map() in Pandas***."
      ]
    },
    {
      "cell_type": "markdown",
      "metadata": {
        "id": "HoNx8WYDcZMq"
      },
      "source": [
        "***map()***: A Series method used for substituting each value in a Series with another value. It's a simple, fast mapping from one value to another.\n",
        "\n",
        "***apply()***: A much more flexible method that works on both DataFrames and Series. It can apply a function along an axis (rows or columns) of a DataFrame or to each element of a Series"
      ]
    },
    {
      "cell_type": "markdown",
      "metadata": {
        "id": "Iax4oRuvdJlr"
      },
      "source": [
        "***Example for map()***"
      ]
    },
    {
      "cell_type": "code",
      "execution_count": 6,
      "metadata": {
        "colab": {
          "base_uri": "https://localhost:8080/"
        },
        "id": "-fyt47M4dODq",
        "outputId": "9c0a2803-874a-4ed5-d8ac-07a1581b80f7"
      },
      "outputs": [
        {
          "name": "stdout",
          "output_type": "stream",
          "text": [
            "0     1\n",
            "1     4\n",
            "2     9\n",
            "3    16\n",
            "dtype: int64\n"
          ]
        }
      ],
      "source": [
        "\n",
        "import pandas as pd\n",
        "\n",
        "s = pd.Series([1, 2, 3, 4])\n",
        "print(s.map(lambda x: x**2))"
      ]
    },
    {
      "cell_type": "markdown",
      "metadata": {
        "id": "3DCLqk35dUhS"
      },
      "source": [
        "***Example for apply()***"
      ]
    },
    {
      "cell_type": "code",
      "execution_count": 7,
      "metadata": {
        "colab": {
          "base_uri": "https://localhost:8080/"
        },
        "id": "kNIs8n0GdcsC",
        "outputId": "6436fb30-749f-45ab-c128-69648abdb4ea"
      },
      "outputs": [
        {
          "name": "stdout",
          "output_type": "stream",
          "text": [
            "   A   B\n",
            "0  2  20\n",
            "1  4  40\n",
            "2  6  60\n"
          ]
        }
      ],
      "source": [
        "\n",
        "import pandas as pd\n",
        "\n",
        "df = pd.DataFrame({\n",
        "    'A': [1, 2, 3],\n",
        "    'B': [10, 20, 30]\n",
        "})\n",
        "\n",
        "# Apply function to each column\n",
        "print(df.apply(lambda x: x * 2))"
      ]
    },
    {
      "cell_type": "markdown",
      "metadata": {
        "id": "sju7Ida2dtmq"
      },
      "source": [
        "\n",
        "\n",
        "\n",
        "\n",
        "\n",
        "Q8 ***Create a histogram using Seaborn to visualize a distribution***."
      ]
    },
    {
      "cell_type": "markdown",
      "metadata": {
        "id": "-WEdcUOoeBFa"
      },
      "source": [
        "A simple example of creating a histogram using Seaborn to visualize a distribution"
      ]
    },
    {
      "cell_type": "code",
      "execution_count": 8,
      "metadata": {
        "colab": {
          "base_uri": "https://localhost:8080/",
          "height": 472
        },
        "id": "zPnXx9gceC5a",
        "outputId": "20564a73-cd7f-405c-8b5a-b3effce3eecd"
      },
      "outputs": [
        {
          "data": {
            "image/png": "[encoded data removed]",
            "text/plain": [
              "<Figure size 640x480 with 1 Axes>"
            ]
          },
          "metadata": {},
          "output_type": "display_data"
        }
      ],
      "source": [
        "\n",
        "import seaborn as sns\n",
        "import matplotlib.pyplot as plt\n",
        "import numpy as np\n",
        "\n",
        "# Generate some random data\n",
        "data = np.random.randn(100)\n",
        "# Create histogram\n",
        "sns.histplot(data, bins=40, kde=False, color='red')\n",
        "\n",
        "# Add title and labels\n",
        "plt.title(\"Histogram of Normally Distributed Data\")\n",
        "plt.xlabel(\"Value\")\n",
        "plt.ylabel(\"Frequency\")\n",
        "\n",
        "# Show the plot\n",
        "plt.show()"
      ]
    },
    {
      "cell_type": "markdown",
      "metadata": {
        "id": "L8r4LC3yeVbK"
      },
      "source": [
        "\n",
        "\n",
        "\n",
        "\n",
        "Q9 ***Use Pandas to load a CSV file and display its first 5 rows***."
      ]
    },
    {
      "cell_type": "code",
      "execution_count": 14,
      "metadata": {
        "colab": {
          "base_uri": "https://localhost:8080/"
        },
        "id": "U8vOhtOeehDy",
        "outputId": "199466e5-7a02-4745-e4db-5455178b8eb8"
      },
      "outputs": [
        {
          "name": "stdout",
          "output_type": "stream",
          "text": [
            "Sample 'data.csv' created successfully.\n",
            "   ashish\n",
            "0      85\n",
            "1      90\n",
            "2      70\n",
            "3      65\n",
            "4      75\n",
            "<class 'pandas.core.frame.DataFrame'>\n",
            "RangeIndex: 5 entries, 0 to 4\n",
            "Data columns (total 1 columns):\n",
            " #   Column  Non-Null Count  Dtype\n",
            "---  ------  --------------  -----\n",
            " 0   ashish  5 non-null      int64\n",
            "dtypes: int64(1)\n",
            "memory usage: 172.0 bytes\n",
            "None\n"
          ]
        }
      ],
      "source": [
        "import pandas as pd\n",
        "\n",
        "# Create a sample data.csv file for demonstration\n",
        "Subjects_Marks = {'ashish': [85, 90, 70, 65, 75]} # Added the missing closing brace here\n",
        "\n",
        "sample_df = pd.DataFrame(Subjects_Marks)\n",
        "sample_df.to_csv('data.csv', index=False)\n",
        "\n",
        "print(\"Sample 'data.csv' created successfully.\")\n",
        "\n",
        "# Load the CSV file with some options\n",
        "df = pd.read_csv(\n",
        "    \"data.csv\",\n",
        "    sep=\",\",\n",
        "    na_values=[\"Hindi\", \"Maths\", \"English\", \"Science\", \"Statistics\"]\n",
        ")\n",
        "\n",
        "# Display the first 5 rows\n",
        "print(df.head(5))\n",
        "\n",
        "print(df.info())"
      ]
    },
    {
      "cell_type": "markdown",
      "metadata": {
        "id": "l9Evc9cae7JS"
      },
      "source": [
        "\n",
        "\n",
        "\n",
        "Q10  ***Calculate the correlation matrix using Seaborn and visualize it with a\n",
        "heatmap***."
      ]
    },
    {
      "cell_type": "code",
      "execution_count": 10,
      "metadata": {
        "colab": {
          "base_uri": "https://localhost:8080/",
          "height": 539
        },
        "id": "zFZQe6IWfGkK",
        "outputId": "68468e34-f211-433f-c6ca-b3e8ae27baa7"
      },
      "outputs": [
        {
          "name": "stdout",
          "output_type": "stream",
          "text": [
            "          A         B         C         D\n",
            "A  1.000000 -0.982715  0.983954  0.137871\n",
            "B -0.982715  1.000000 -0.993754 -0.072727\n",
            "C  0.983954 -0.993754  1.000000  0.068268\n",
            "D  0.137871 -0.072727  0.068268  1.000000\n"
          ]
        },
        {
          "data": {
            "image/png": "[encoded data removed]",
            "text/plain": [
              "<Figure size 640x480 with 2 Axes>"
            ]
          },
          "metadata": {},
          "output_type": "display_data"
        }
      ],
      "source": [
        "import pandas as pd\n",
        "import seaborn as sns\n",
        "import matplotlib.pyplot as plt\n",
        "\n",
        "# Sample data\n",
        "data = {\n",
        "    \"A\": [20, 30, 35, 55, 65],\n",
        "    \"B\": [55, 46, 38, 29, 15],\n",
        "    \"C\": [28, 34, 46, 57, 69],\n",
        "    \"D\": [55, 35, 19, 38, 53]\n",
        "}\n",
        "\n",
        "# Create a DataFrame\n",
        "df = pd.DataFrame(data)\n",
        "\n",
        "# Calculate correlation matrix\n",
        "corr_matrix = df.corr()\n",
        "\n",
        "# Display correlation matrix\n",
        "print(corr_matrix)\n",
        "\n",
        "# Visualize correlation matrix with a heatmap\n",
        "sns.heatmap(corr_matrix, annot=True, cmap=\"Blues\", linewidths=0.5)\n",
        "plt.title(\"Correlation Heatmap\")\n",
        "plt.show()"
      ]
    }
  ],
  "metadata": {
    "colab": {
      "provenance": []
    },
    "kernelspec": {
      "display_name": "Python 3",
      "name": "python3"
    },
    "language_info": {
      "name": "python"
    }
  },
  "nbformat": 4,
  "nbformat_minor": 0
}
